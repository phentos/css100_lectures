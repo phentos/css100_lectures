{
 "cells": [
  {
   "cell_type": "markdown",
   "id": "2fd4307c",
   "metadata": {
    "slideshow": {
     "slide_type": "slide"
    }
   },
   "source": [
    "# Introduction to Natural Language Processing"
   ]
  },
  {
   "cell_type": "code",
   "execution_count": 50,
   "id": "2ed8ada2",
   "metadata": {},
   "outputs": [],
   "source": [
    "import matplotlib.pyplot as plt"
   ]
  },
  {
   "cell_type": "markdown",
   "id": "4a3a695b",
   "metadata": {
    "slideshow": {
     "slide_type": "slide"
    }
   },
   "source": [
    "## Lecture goals\n",
    "\n",
    "- What is Natural Language Processing (NLP)? A brief survey.  \n",
    "   - Text as *social science data*.\n",
    "- Simple NLP with \"base Python\".\n",
    "   - Tokenization.\n",
    "   - Sentiment analysis. "
   ]
  },
  {
   "cell_type": "markdown",
   "id": "2baba161",
   "metadata": {
    "slideshow": {
     "slide_type": "slide"
    }
   },
   "source": [
    "## What is NLP?\n",
    "\n",
    "> **Natural Language Processing** (NLP) is a field that builds and evaluates technologies for *processing* and *manipulating* language data.\n",
    "\n",
    "- NLP is *interdisciplinary*: Computer Science, Data Science, Linguistics, and more.\n",
    "- NLP is both *theoretical* and *applied*.\n",
    "   - Basic research on new algorithms, data structures, neural network architectures.  \n",
    "   - Application of technology to specific domains (and evaluation).\n",
    "\n",
    "**Why might NLP be useful for CSS?**"
   ]
  },
  {
   "cell_type": "markdown",
   "id": "8a1f02f4",
   "metadata": {
    "slideshow": {
     "slide_type": "slide"
    }
   },
   "source": [
    "### Language as data\n",
    "\n",
    "- CSS studies **social science data**.  \n",
    "- Human **language** is itself a kind of data! \n",
    "   - Can be used to study *language* and *language change*.\n",
    "   - Can also be used to study *social behavior* more generally.\n",
    "- The challenge is that most language data is **unstructured**.  \n",
    "- NLP tools can be useful for extracting structure from language data."
   ]
  },
  {
   "cell_type": "markdown",
   "id": "1e96f244",
   "metadata": {
    "slideshow": {
     "slide_type": "slide"
    }
   },
   "source": [
    "### Case study 1: Bias and word meanings\n",
    "\n",
    "[Garg et al. (2018)](https://www.pnas.org/doi/pdf/10.1073/pnas.1720347115) use **word embeddings** to quantify 100 years of gender and ethnic stereotypes.\n",
    "\n",
    "![Optional Caption](img/garg_bias.png)\n"
   ]
  },
  {
   "cell_type": "markdown",
   "id": "0cd5fcb1",
   "metadata": {
    "slideshow": {
     "slide_type": "slide"
    }
   },
   "source": [
    "### Case study 2: Six basic story shapes\n",
    "\n",
    "[Reagan et al. (2016)](https://link.springer.com/article/10.1140/epjds/s13688-016-0093-1) use **sentiment analysis** to identify different \"story arcs\".\n",
    "\n",
    "![Optional Caption](img/reagan_shapes.png)\n"
   ]
  },
  {
   "cell_type": "markdown",
   "id": "7f527cfd",
   "metadata": {
    "slideshow": {
     "slide_type": "slide"
    }
   },
   "source": [
    "### Case study 3: Data annotation\n",
    "\n",
    "[Ziems et al. (2024)](https://direct.mit.edu/coli/article/doi/10.1162/coli_a_00502/118498) ask whether **large language models** can help computational social scientists perform data annotation tasks.\n",
    "\n",
    "![Optional Caption](img/ziems_llms.png)\n"
   ]
  },
  {
   "cell_type": "markdown",
   "id": "25bc810a",
   "metadata": {
    "slideshow": {
     "slide_type": "slide"
    }
   },
   "source": [
    "### Case study 4: Psycholinguistic data annotation\n",
    "\n",
    "[Trott (2024)](https://link.springer.com/article/10.3758/s13428-024-02337-z) asks whether **large language models** can augment psycholinguistic datasets.\n",
    "\n",
    "![Optional Caption](img/trott_llms.png)\n"
   ]
  },
  {
   "cell_type": "markdown",
   "id": "6c8c0a3e",
   "metadata": {
    "slideshow": {
     "slide_type": "slide"
    }
   },
   "source": [
    "### Case study 5: Predicting stock markets\n",
    "\n",
    "[Tabari et al. (2018)](https://aclanthology.org/W18-3102.pdf) uses **sentiment analysis** to predict stock market changes.\n",
    "\n",
    "![Optional Caption](img/tabari_stocks.png)\n"
   ]
  },
  {
   "cell_type": "markdown",
   "id": "03f6057b",
   "metadata": {
    "slideshow": {
     "slide_type": "slide"
    }
   },
   "source": [
    "### But analyzing *language* is hard\n",
    "\n",
    "- The challenge is that *text data* is **unstructured**.  \n",
    "- Unlike a `DataFrame`, it's just one big `str`."
   ]
  },
  {
   "cell_type": "code",
   "execution_count": 1,
   "id": "5c9cea69",
   "metadata": {
    "slideshow": {
     "slide_type": "-"
    }
   },
   "outputs": [
    {
     "data": {
      "text/plain": [
       "'In Congress, July 4, 1776\\n\\nThe unanimous Declaration of the thirteen united States of America, When '"
      ]
     },
     "execution_count": 1,
     "metadata": {},
     "output_type": "execute_result"
    }
   ],
   "source": [
    "### Declaration of Independence\n",
    "with open(\"data/text/declaration.txt\", \"r\") as f:\n",
    "    contents = f.read()\n",
    "\n",
    "### Peeking at the first 100 characters\n",
    "contents[0:100]"
   ]
  },
  {
   "cell_type": "markdown",
   "id": "af68d9f8",
   "metadata": {
    "slideshow": {
     "slide_type": "slide"
    }
   },
   "source": [
    "## NLP in \"base\" Python\n",
    "\n",
    "- There are now *numerous* Python NLP libraries.\n",
    "   - `nltk`, `spaCy`, `transformers`, and more.\n",
    "- But before we learn how to use those, it's useful to learn the **basics**.  \n",
    "- How would we implement basic NLP functions without those libraries?\n",
    "   - **Tokenization**.  \n",
    "   - **Sentiment analysis**. "
   ]
  },
  {
   "cell_type": "markdown",
   "id": "39bcf2f5",
   "metadata": {
    "slideshow": {
     "slide_type": "slide"
    }
   },
   "source": [
    "## Tokenization: a gentle introduction\n",
    "\n",
    "> **Tokenization** is the process of splitting a chunk of text into individuals elements or \"tokens\" (often *words*). \n",
    "\n",
    "- Tokenization is critical for *pre-processing* text.  \n",
    "- Before counting, calculating sentiment, etc., must identify the tokens!\n",
    "- It's also surprisingly challenging to do."
   ]
  },
  {
   "cell_type": "markdown",
   "id": "cb1e59d1",
   "metadata": {
    "slideshow": {
     "slide_type": "slide"
    }
   },
   "source": [
    "### Tokenizing with `split`\n",
    "\n",
    "> The **`split`** function can be applied to a `str` to divide that `str` into individual elements."
   ]
  },
  {
   "cell_type": "code",
   "execution_count": 2,
   "id": "1df00044",
   "metadata": {
    "slideshow": {
     "slide_type": "-"
    }
   },
   "outputs": [
    {
     "data": {
      "text/plain": [
       "['The', 'quick', 'brown', 'fox', 'jumped', 'over', 'the', 'lazy', 'dog']"
      ]
     },
     "execution_count": 2,
     "metadata": {},
     "output_type": "execute_result"
    }
   ],
   "source": [
    "example_str = \"The quick brown fox jumped over the lazy dog\"\n",
    "example_str.split(\" \") ### split on spaces"
   ]
  },
  {
   "cell_type": "markdown",
   "id": "acf850b7",
   "metadata": {
    "slideshow": {
     "slide_type": "slide"
    }
   },
   "source": [
    "#### Check-in\n",
    "\n",
    "Use `split` to identify the tokens in the Declaration of Independence (`contents` below)."
   ]
  },
  {
   "cell_type": "code",
   "execution_count": 3,
   "id": "3927d888",
   "metadata": {
    "slideshow": {
     "slide_type": "-"
    }
   },
   "outputs": [],
   "source": [
    "### Declaration of Independence\n",
    "with open(\"data/text/declaration.txt\", \"r\") as f:\n",
    "    contents = f.read()\n",
    "\n",
    "### tokens = ... ### Your code here!"
   ]
  },
  {
   "cell_type": "markdown",
   "id": "0c320dff",
   "metadata": {
    "slideshow": {
     "slide_type": "slide"
    }
   },
   "source": [
    "#### Evaluating `split`\n",
    "\n",
    "- This does okay, but messes up in some cases. \n",
    "- E.g., \"4,\" is a single token.  \n",
    "- Similarly, the newline character (`\"\\n\"`) is *not* a space, so we fail to split \"1776\" and \"The\"."
   ]
  },
  {
   "cell_type": "code",
   "execution_count": 4,
   "id": "021dc1c8",
   "metadata": {
    "slideshow": {
     "slide_type": "-"
    }
   },
   "outputs": [
    {
     "data": {
      "text/plain": [
       "['In', 'Congress,', 'July', '4,', '1776\\n\\nThe']"
      ]
     },
     "execution_count": 4,
     "metadata": {},
     "output_type": "execute_result"
    }
   ],
   "source": [
    "tokens = contents.split(\" \")\n",
    "tokens[0:5]"
   ]
  },
  {
   "cell_type": "markdown",
   "id": "b53405e1",
   "metadata": {
    "slideshow": {
     "slide_type": "slide"
    }
   },
   "source": [
    "#### A (somewhat hacky) workaround\n",
    "\n",
    "- We *could* try get around the punctuation problem by **buffering** our punctuation.\n",
    "- We can also *replace* our newline characters with spaces.  "
   ]
  },
  {
   "cell_type": "code",
   "execution_count": 5,
   "id": "e979127e",
   "metadata": {
    "slideshow": {
     "slide_type": "-"
    }
   },
   "outputs": [
    {
     "data": {
      "text/plain": [
       "['In', 'Congress', ',', 'July', '4', ',']"
      ]
     },
     "execution_count": 5,
     "metadata": {},
     "output_type": "execute_result"
    }
   ],
   "source": [
    "contents_buffered = contents.replace(\",\" , \" ,\").replace(\"\\n\", \" \")\n",
    "tokens = contents_buffered.split(\" \")\n",
    "tokens[0:6]"
   ]
  },
  {
   "cell_type": "markdown",
   "id": "4c266fa3",
   "metadata": {
    "slideshow": {
     "slide_type": "-"
    }
   },
   "source": [
    "This is better! But there are likely still **edge cases** we haven't thought of...and those would just make this even more complicated."
   ]
  },
  {
   "cell_type": "markdown",
   "id": "6c4fad4e",
   "metadata": {
    "slideshow": {
     "slide_type": "slide"
    }
   },
   "source": [
    "### Tokenizing with `re`\n",
    "\n",
    "> The **`re`** library allows you to use **regular expressions**, a sequence of characters that can be used to *match* expressions in text.\n",
    "\n",
    "- Upside: much more flexible than `split`.  \n",
    "- Downside: harder to interpret and use.\n",
    "   - [\"I had a text processing problem, so I used Regex. Now I have even more problems.\"](https://xkcd.com/1171/)"
   ]
  },
  {
   "cell_type": "code",
   "execution_count": 6,
   "id": "4a70213a",
   "metadata": {
    "slideshow": {
     "slide_type": "-"
    }
   },
   "outputs": [],
   "source": [
    "import re ## regex package"
   ]
  },
  {
   "cell_type": "markdown",
   "id": "41351d73",
   "metadata": {
    "slideshow": {
     "slide_type": "slide"
    }
   },
   "source": [
    "#### `re` in action\n",
    "\n",
    "- With Regex, we can define a *pattern* of characters we want to **match** (and then **split**) on.\n",
    "  - `[]`: defines a *character set*. \n",
    "  - ` `: A space character.\n",
    "  - `\\t`: tab character.\n",
    "  - `\\n`: newline character.\n",
    "  - `,!.?`: punctuation characters.\n",
    "  - `+`: this means the pattern will match *sequences*, not just single instances."
   ]
  },
  {
   "cell_type": "code",
   "execution_count": 7,
   "id": "2ddc2be6",
   "metadata": {
    "slideshow": {
     "slide_type": "-"
    }
   },
   "outputs": [
    {
     "data": {
      "text/plain": [
       "['Hello', 'World', \"Let's\", 'explore', 'tokenization', '']"
      ]
     },
     "execution_count": 7,
     "metadata": {},
     "output_type": "execute_result"
    }
   ],
   "source": [
    "text = \"Hello, World! Let's explore tokenization.\"\n",
    "tokens = re.split(r'[ \\t\\n,!.?]+', text)\n",
    "tokens"
   ]
  },
  {
   "cell_type": "markdown",
   "id": "d33a1ef0",
   "metadata": {
    "slideshow": {
     "slide_type": "slide"
    }
   },
   "source": [
    "#### `re` is useful, but challenging!\n",
    "\n",
    "- `re` is a very **powerful** package.  \n",
    "- But it's also easy to mess up, or get confused.  \n",
    "- If interested, [lots of guides on the Internet to regular expressions](https://developer.mozilla.org/en-US/docs/Web/JavaScript/Guide/Regular_expressions).  "
   ]
  },
  {
   "cell_type": "markdown",
   "id": "b20532a7",
   "metadata": {
    "slideshow": {
     "slide_type": "slide"
    }
   },
   "source": [
    "## Sentiment analysis in base Python\n",
    "\n",
    "> [**Sentiment analysis**](https://en.wikipedia.org/wiki/Sentiment_analysis) refers to the process of extracting or inferring \"sentiment\" (i.e., *affect*) from language data.\n",
    "\n",
    "- *Sentiment* is multifaceted, but simple version is `positive` and `negative`.  \n",
    "- Even `positive`/`negative` can be surprisingly nuanced and hard to extract.  \n",
    "- There are many *libraries* to help with sentiment analysis, but we'll implement a simple approach here."
   ]
  },
  {
   "cell_type": "markdown",
   "id": "a020d28f",
   "metadata": {
    "slideshow": {
     "slide_type": "slide"
    }
   },
   "source": [
    "### Sentiment analysis: the basic steps\n",
    "\n",
    "To build a **sentiment analysis** tool, we'll need to implement some basic steps.\n",
    "\n",
    "- Create a *sentiment lexicon* (i.e., which words are `positive` or `negative`). \n",
    "- *Tokenize* a given text.  \n",
    "- Identify the number of `positive` and `negative` words in that text.\n",
    "- Produce some *average sentiment score* for the text. "
   ]
  },
  {
   "cell_type": "markdown",
   "id": "2a8d35a0",
   "metadata": {
    "slideshow": {
     "slide_type": "slide"
    }
   },
   "source": [
    "#### Step 1: A sentiment lexicon\n",
    "\n",
    "> A **sentiment lexicon** maps individual words or tokens to our desired sentiment *labels*. \n",
    "\n",
    "- These are sometimes built by hand.  \n",
    "- In other cases, we *infer* them using labeled text data (e.g., positive and negative reviews)."
   ]
  },
  {
   "cell_type": "code",
   "execution_count": 8,
   "id": "b41e70fc",
   "metadata": {
    "slideshow": {
     "slide_type": "-"
    }
   },
   "outputs": [],
   "source": [
    "### Simple sentiment lexicon\n",
    "pos_words = ['good', 'happy', 'great', 'exciting', 'delicious', 'best', 'love']\n",
    "neg_words = ['bad', 'sad', 'horrible', 'boring', 'disgusting', 'worst', 'hate']"
   ]
  },
  {
   "cell_type": "markdown",
   "id": "50f368aa",
   "metadata": {
    "slideshow": {
     "slide_type": "slide"
    }
   },
   "source": [
    "#### Step 2a: Create our texts\n",
    "\n",
    "First, let's come up with some simple examples."
   ]
  },
  {
   "cell_type": "code",
   "execution_count": 9,
   "id": "e1649e94",
   "metadata": {
    "slideshow": {
     "slide_type": "-"
    }
   },
   "outputs": [],
   "source": [
    "texts = [\n",
    "    'That movie is the best, I love it!',\n",
    "    'That meal was disgusting',\n",
    "    'I am so happy today!',\n",
    "    'When my code breaks, I feel sad.'\n",
    "]"
   ]
  },
  {
   "cell_type": "markdown",
   "id": "12000d06",
   "metadata": {
    "slideshow": {
     "slide_type": "slide"
    }
   },
   "source": [
    "#### Step 2b: Tokenize each text\n",
    "\n",
    "- Let's make our text `lower`, `replace` punctuation, and then `split(\" \")`."
   ]
  },
  {
   "cell_type": "code",
   "execution_count": 10,
   "id": "bbac78c7",
   "metadata": {
    "slideshow": {
     "slide_type": "-"
    }
   },
   "outputs": [],
   "source": [
    "tokenized_texts = []\n",
    "for t in texts:\n",
    "    t_tokenized = t.lower().replace(\".\", \"\").replace(\"!\", \"\").replace(\",\",\"\").split(\" \")\n",
    "    tokenized_texts.append(t_tokenized)"
   ]
  },
  {
   "cell_type": "code",
   "execution_count": 11,
   "id": "12a3eab6",
   "metadata": {
    "slideshow": {
     "slide_type": "-"
    }
   },
   "outputs": [
    {
     "data": {
      "text/plain": [
       "[['that', 'movie', 'is', 'the', 'best', 'i', 'love', 'it'],\n",
       " ['that', 'meal', 'was', 'disgusting'],\n",
       " ['i', 'am', 'so', 'happy', 'today'],\n",
       " ['when', 'my', 'code', 'breaks', 'i', 'feel', 'sad']]"
      ]
     },
     "execution_count": 11,
     "metadata": {},
     "output_type": "execute_result"
    }
   ],
   "source": [
    "tokenized_texts"
   ]
  },
  {
   "cell_type": "markdown",
   "id": "13e1db65",
   "metadata": {
    "slideshow": {
     "slide_type": "slide"
    }
   },
   "source": [
    "#### Step 3: Identify the sentiment of each word in a given text."
   ]
  },
  {
   "cell_type": "code",
   "execution_count": 12,
   "id": "050b6582",
   "metadata": {
    "slideshow": {
     "slide_type": "-"
    }
   },
   "outputs": [],
   "source": [
    "def get_sentimental_words(tokenized_text, pos_words, neg_words):\n",
    "    p = 0\n",
    "    n = 0\n",
    "    for token in tokenized_text:\n",
    "        if token in pos_words:\n",
    "            p += 1\n",
    "        if token in neg_words:\n",
    "            n += 1\n",
    "    return {'pos': p, 'neg': n, 'length': len(tokenized_text)}"
   ]
  },
  {
   "cell_type": "code",
   "execution_count": 13,
   "id": "6f925a69",
   "metadata": {
    "slideshow": {
     "slide_type": "-"
    }
   },
   "outputs": [
    {
     "name": "stdout",
     "output_type": "stream",
     "text": [
      "['that', 'movie', 'is', 'the', 'best', 'i', 'love', 'it']\n",
      "{'pos': 2, 'neg': 0, 'length': 8}\n"
     ]
    }
   ],
   "source": [
    "### Let's try it!\n",
    "print(tokenized_texts[0])\n",
    "print(get_sentimental_words(tokenized_texts[0], pos_words, neg_words))"
   ]
  },
  {
   "cell_type": "markdown",
   "id": "515d6039",
   "metadata": {
    "slideshow": {
     "slide_type": "slide"
    }
   },
   "source": [
    "#### Step 4: Score sentiment\n",
    "\n",
    "A simple method for **scoring** a text is to take the weighted average of positive and negative words."
   ]
  },
  {
   "cell_type": "code",
   "execution_count": 14,
   "id": "1d63000e",
   "metadata": {
    "slideshow": {
     "slide_type": "-"
    }
   },
   "outputs": [],
   "source": [
    "def calculate_sentiment(tokenized_text, pos_words, neg_words):\n",
    "    sentimental_words = get_sentimental_words(tokenized_text, pos_words, neg_words)\n",
    "    return (sentimental_words['pos'] * 1 + sentimental_words['neg'] * -1) / sentimental_words['length']"
   ]
  },
  {
   "cell_type": "code",
   "execution_count": 15,
   "id": "cad17c56",
   "metadata": {
    "slideshow": {
     "slide_type": "-"
    }
   },
   "outputs": [
    {
     "data": {
      "text/plain": [
       "0.25"
      ]
     },
     "execution_count": 15,
     "metadata": {},
     "output_type": "execute_result"
    }
   ],
   "source": [
    "calculate_sentiment(tokenized_texts[0], pos_words, neg_words)"
   ]
  },
  {
   "cell_type": "markdown",
   "id": "1a35401c",
   "metadata": {
    "slideshow": {
     "slide_type": "slide"
    }
   },
   "source": [
    "#### Step 5: Apply to each text!"
   ]
  },
  {
   "cell_type": "code",
   "execution_count": 16,
   "id": "4a582860",
   "metadata": {
    "slideshow": {
     "slide_type": "-"
    }
   },
   "outputs": [
    {
     "name": "stdout",
     "output_type": "stream",
     "text": [
      "['that', 'movie', 'is', 'the', 'best', 'i', 'love', 'it']\n",
      "Sentiment: 0.25\n",
      "['that', 'meal', 'was', 'disgusting']\n",
      "Sentiment: -0.25\n",
      "['i', 'am', 'so', 'happy', 'today']\n",
      "Sentiment: 0.2\n",
      "['when', 'my', 'code', 'breaks', 'i', 'feel', 'sad']\n",
      "Sentiment: -0.14285714285714285\n"
     ]
    }
   ],
   "source": [
    "for t in tokenized_texts:\n",
    "    sentiment = calculate_sentiment(t, pos_words, neg_words)\n",
    "    print(t)\n",
    "    print(\"Sentiment: {s}\".format(s = sentiment))"
   ]
  },
  {
   "cell_type": "markdown",
   "id": "15da5f54",
   "metadata": {
    "slideshow": {
     "slide_type": "slide"
    }
   },
   "source": [
    "### Applying our steps\n",
    "\n",
    "- Now, let's apply this to the Declaration of Independence.  "
   ]
  },
  {
   "cell_type": "code",
   "execution_count": 17,
   "id": "e6812512",
   "metadata": {
    "slideshow": {
     "slide_type": "-"
    }
   },
   "outputs": [],
   "source": [
    "### Declaration of Independence\n",
    "with open(\"data/text/declaration.txt\", \"r\") as f:\n",
    "    contents = f.read()"
   ]
  },
  {
   "cell_type": "code",
   "execution_count": 18,
   "id": "1591c1eb",
   "metadata": {
    "slideshow": {
     "slide_type": "-"
    }
   },
   "outputs": [],
   "source": [
    "### Tokenize text\n",
    "t_tokenized = contents.lower().replace(\".\", \"\").replace(\"!\", \"\").replace(\",\",\"\").split(\" \")"
   ]
  },
  {
   "cell_type": "code",
   "execution_count": 19,
   "id": "adc71116",
   "metadata": {
    "slideshow": {
     "slide_type": "-"
    }
   },
   "outputs": [
    {
     "data": {
      "text/plain": [
       "0.0023023791250959325"
      ]
     },
     "execution_count": 19,
     "metadata": {},
     "output_type": "execute_result"
    }
   ],
   "source": [
    "### Score sentment\n",
    "sentiment = calculate_sentiment(t_tokenized, pos_words, neg_words)\n",
    "sentiment"
   ]
  },
  {
   "cell_type": "markdown",
   "id": "92bb7b8b",
   "metadata": {
    "slideshow": {
     "slide_type": "slide"
    }
   },
   "source": [
    "#### Check-in\n",
    "\n",
    "Can you first tokenize the Declaration of Independence into *sentences* (roughly), and then calculate the **trajectory** of sentiment across sentences?"
   ]
  },
  {
   "cell_type": "code",
   "execution_count": 20,
   "id": "0c749801",
   "metadata": {
    "slideshow": {
     "slide_type": "-"
    }
   },
   "outputs": [],
   "source": [
    "### Your code here"
   ]
  },
  {
   "cell_type": "markdown",
   "id": "8924e049",
   "metadata": {
    "slideshow": {
     "slide_type": "slide"
    }
   },
   "source": [
    "#### Implementation"
   ]
  },
  {
   "cell_type": "code",
   "execution_count": 21,
   "id": "bde9dbc2",
   "metadata": {
    "slideshow": {
     "slide_type": "-"
    }
   },
   "outputs": [],
   "source": [
    " ### first, tokenize into sentences (roughly)\n",
    "sentences = contents.lower().split(\".\")\n",
    "### Now, tokenize each sentence\n",
    "tokenized_sentences = [s.split(\" \") for s in sentences]\n",
    "### now, score sentiment\n",
    "scored_sentiments = [calculate_sentiment(s, pos_words, neg_words) for s in tokenized_sentences]"
   ]
  },
  {
   "cell_type": "markdown",
   "id": "e96e24c7",
   "metadata": {
    "slideshow": {
     "slide_type": "slide"
    }
   },
   "source": [
    "#### Plotting the trajectory\n",
    "\n",
    "Kind of boring trajectory, probably because our sentiment lexicon isn't very good!"
   ]
  },
  {
   "cell_type": "code",
   "execution_count": 23,
   "id": "10c848ae",
   "metadata": {
    "slideshow": {
     "slide_type": "-"
    }
   },
   "outputs": [
    {
     "data": {
      "text/plain": [
       "Text(0.5, 0, 'Sentence index')"
      ]
     },
     "execution_count": 23,
     "metadata": {},
     "output_type": "execute_result"
    },
    {
     "data": {
      "image/png": "[encoded data removed]",
      "text/plain": [
       "<Figure size 640x480 with 1 Axes>"
      ]
     },
     "metadata": {},
     "output_type": "display_data"
    }
   ],
   "source": [
    "import matplotlib.pyplot as plt\n",
    "plt.plot(scored_sentiments)\n",
    "plt.ylabel(\"Scored sentiment\")\n",
    "plt.xlabel(\"Sentence index\")"
   ]
  },
  {
   "cell_type": "markdown",
   "id": "fa2aff8c",
   "metadata": {
    "slideshow": {
     "slide_type": "slide"
    }
   },
   "source": [
    "### Limitations\n",
    "\n",
    "- This simple and naive approach has many limitations.  \n",
    "- Our sentiment lexicon is very **small**.  \n",
    "- Often sentiment depends on more than just **individual words** (\"not great\"!).\n",
    "- Sentiment is sometimes in the eye of the beholder.  \n",
    "- But on the whole, it's not bad!"
   ]
  },
  {
   "cell_type": "markdown",
   "id": "999f0073",
   "metadata": {
    "slideshow": {
     "slide_type": "slide"
    }
   },
   "source": [
    "## Wrap-up\n",
    "\n",
    "- NLP tools are useful for conducting **computational social science** research on *language data*.  \n",
    "   - Must first *tokenize* text.  \n",
    "   - Then apply some kind of *processing*, e.g., *sentiment analysis*.\n",
    "- There are now many libraries for doing this.  \n",
    "- But it's also useful to learn how to do these things in **base Python**."
   ]
  }
 ],
 "metadata": {
  "celltoolbar": "Slideshow",
  "kernelspec": {
   "display_name": "Python 3 (ipykernel)",
   "language": "python",
   "name": "python3"
  },
  "language_info": {
   "codemirror_mode": {
    "name": "ipython",
    "version": 3
   },
   "file_extension": ".py",
   "mimetype": "text/x-python",
   "name": "python",
   "nbconvert_exporter": "python",
   "pygments_lexer": "ipython3",
   "version": "3.11.0"
  }
 },
 "nbformat": 4,
 "nbformat_minor": 5
}
