{
 "cells": [
  {
   "cell_type": "markdown",
   "id": "2fd4307c",
   "metadata": {
    "slideshow": {
     "slide_type": "slide"
    }
   },
   "source": [
    "# Advanced methods with `nltk`"
   ]
  },
  {
   "cell_type": "markdown",
   "id": "4a3a695b",
   "metadata": {
    "slideshow": {
     "slide_type": "slide"
    }
   },
   "source": [
    "## Lecture goals\n",
    "\n",
    "- **Sentiment analysis** with `nltk`.  \n",
    "- Accessing **corpora** with `nltk`. "
   ]
  },
  {
   "cell_type": "code",
   "execution_count": 1,
   "id": "56120809",
   "metadata": {
    "slideshow": {
     "slide_type": "-"
    }
   },
   "outputs": [],
   "source": [
    "import nltk\n",
    "import pandas as pd\n",
    "import seaborn as sns\n",
    "import matplotlib.pyplot as plt"
   ]
  },
  {
   "cell_type": "markdown",
   "id": "235fda34",
   "metadata": {
    "slideshow": {
     "slide_type": "slide"
    }
   },
   "source": [
    "## Sentiment analysis\n",
    "\n",
    "> `nltk` has a number of tools for **sentiment analysis**, which are both *efficient* and *fairly accurate*.\n",
    "\n",
    "We'll focus on the `SentimentIntensityAnalyzer`."
   ]
  },
  {
   "cell_type": "markdown",
   "id": "b20532a7",
   "metadata": {
    "slideshow": {
     "slide_type": "slide"
    }
   },
   "source": [
    "### Refresher: what is sentiment analysis?\n",
    "\n",
    "> [**Sentiment analysis**](https://en.wikipedia.org/wiki/Sentiment_analysis) refers to the process of extracting or inferring \"sentiment\" (i.e., *affect*) from language data.\n",
    "\n",
    "- Before, we adopted a fairly simple approach.  \n",
    "  - Split sentence into words (\"tokenize\").  \n",
    "  - Search for *positive* and *negative* words in sentence.  \n",
    "  - Calculate *weighted average* of words in sentence.  \n",
    "\n",
    "What were some of the *problems* with this **bag-of-words** approach?"
   ]
  },
  {
   "cell_type": "markdown",
   "id": "9fa30b12",
   "metadata": {
    "slideshow": {
     "slide_type": "slide"
    }
   },
   "source": [
    "### Problems with naive approach\n",
    "\n",
    "- Doesn't account for *graded* nature of sentiment (\"good\" vs. \"great\"). \n",
    "- Doesn't account for *context* (\"great\" vs. \"not great\").\n",
    "- Misses importance of *emphasis* (\"AMAZING!!!\" vs. \"amazing\"). \n",
    "- Misses importance of *conjunctions* (\"good, but pretty expensive\")."
   ]
  },
  {
   "cell_type": "markdown",
   "id": "823462ea",
   "metadata": {
    "slideshow": {
     "slide_type": "slide"
    }
   },
   "source": [
    "### The `SentimentIntensityAnalyzer`\n",
    "\n",
    "> The [`SentimentIntensityAnalyzer`](https://www.nltk.org/api/nltk.sentiment.vader.html) is an implementation of a [2014 paper](https://ojs.aaai.org/index.php/icwsm/article/view/14550) introducing a **parsimonious, rule-based sentiment analysis tool**.\n",
    "\n",
    "\"VADER\" = Valence-Aware Dictionary for sEntiment Reasoning."
   ]
  },
  {
   "cell_type": "code",
   "execution_count": 2,
   "id": "3741cadc",
   "metadata": {
    "slideshow": {
     "slide_type": "-"
    }
   },
   "outputs": [],
   "source": [
    "### Import\n",
    "from nltk.sentiment.vader import SentimentIntensityAnalyzer"
   ]
  },
  {
   "cell_type": "markdown",
   "id": "bc010ebb",
   "metadata": {
    "slideshow": {
     "slide_type": "slide"
    }
   },
   "source": [
    "### How it works\n",
    "\n",
    "- Authors studied how *humans* determine sentiment of social media posts.  \n",
    "- Identified several *mechanisms* beyond the individual words in the post.\n",
    "   - **Punctuation** (\"!!\" vs. \".\").  \n",
    "   - **Capitalization** (\"GREAT\" vs. \"great\").  \n",
    "   - **Intensifiers** (\"very good\" vs. \"good\"). \n",
    "   - **Contrastive conjunctions** (\"but\", \"although\", \"however\"). \n",
    "   - **Negation** (\"not great\").\n",
    "- Implemented a simple **rule-based parser**. "
   ]
  },
  {
   "cell_type": "markdown",
   "id": "08fcdf26",
   "metadata": {
    "slideshow": {
     "slide_type": "slide"
    }
   },
   "source": [
    "### Success!\n",
    "\n",
    "- The authors found that this approach worked pretty well!\n",
    "\n",
    "> The  Pearson  Product  Moment Correlation  Coefficient  shows  that VADER  (**r  =  0.881**) performs as  well  as individual human raters (**r  =  0.888**) at matching  ground  truth  (aggregated  group  mean  from  20 human  raters  for  sentiment  intensity  of  each  tweet).\n",
    "\n",
    "- VADER out-performed **bag-of-words models**.  \n",
    "- Surprisingly, approaches using machine learning *did not outperform VADER* (at the time).  \n",
    "- Remains a simple, flexible approach. "
   ]
  },
  {
   "cell_type": "markdown",
   "id": "23799c04",
   "metadata": {
    "slideshow": {
     "slide_type": "slide"
    }
   },
   "source": [
    "### `SentimentIntensityAnalyzer` in action\n",
    "\n",
    "- The main function you'll be using is `polarity_scores(text)`.  \n",
    "- `return`s a dictionary with information about `neg`, `neu`, and `pos` sentiment.  \n",
    "  - Also includes `compound` sentiment: weighted average."
   ]
  },
  {
   "cell_type": "code",
   "execution_count": 3,
   "id": "b648d711",
   "metadata": {
    "scrolled": true,
    "slideshow": {
     "slide_type": "-"
    }
   },
   "outputs": [
    {
     "data": {
      "text/plain": [
       "{'neg': 0.0, 'neu': 0.213, 'pos': 0.787, 'compound': 0.5719}"
      ]
     },
     "execution_count": 3,
     "metadata": {},
     "output_type": "execute_result"
    }
   ],
   "source": [
    "sia = SentimentIntensityAnalyzer()\n",
    "sia.polarity_scores(text=\"I am happy\")"
   ]
  },
  {
   "cell_type": "markdown",
   "id": "4c7a478a",
   "metadata": {
    "slideshow": {
     "slide_type": "slide"
    }
   },
   "source": [
    "#### Check-in\n",
    "\n",
    "Try out the `SentimentIntensityAnalyzer` for some of the sentences below. \n",
    "\n",
    "- How does it compare to the bag-of-words approach we used?  \n",
    "- Try writing other sentences and seeing how it does with them as well."
   ]
  },
  {
   "cell_type": "code",
   "execution_count": 4,
   "id": "33f5d3c6",
   "metadata": {
    "slideshow": {
     "slide_type": "-"
    }
   },
   "outputs": [],
   "source": [
    "sentences = [\n",
    "    'This meal was so great!',\n",
    "    'This meal was not great!',\n",
    "    'I liked the movie, but the acting was poor.'\n",
    "]\n",
    "\n",
    "### YOUR CODE HERE"
   ]
  },
  {
   "cell_type": "markdown",
   "id": "6057b069",
   "metadata": {
    "slideshow": {
     "slide_type": "slide"
    }
   },
   "source": [
    "#### VADER > bag-of-words"
   ]
  },
  {
   "cell_type": "code",
   "execution_count": 5,
   "id": "67765fb7",
   "metadata": {
    "slideshow": {
     "slide_type": "-"
    }
   },
   "outputs": [
    {
     "name": "stdout",
     "output_type": "stream",
     "text": [
      "This meal was so great!\n",
      "Compound sentiment: 0.7603\n",
      "\n",
      "This meal was not great!\n",
      "Compound sentiment: -0.5553\n",
      "\n",
      "I liked the movie, but the acting was poor.\n",
      "Compound sentiment: -0.5023\n",
      "\n"
     ]
    }
   ],
   "source": [
    "for sent in sentences:\n",
    "    scores = sia.polarity_scores(sent)\n",
    "    print(sent)\n",
    "    print(\"Compound sentiment: {c}\\n\".format(c = scores['compound']))"
   ]
  },
  {
   "cell_type": "markdown",
   "id": "6ef15f47",
   "metadata": {
    "slideshow": {
     "slide_type": "slide"
    }
   },
   "source": [
    "#### Check-in: where does VADER fail?\n",
    "\n",
    "Can you come up with some examples on which *your interpretation* of the sentence's sentiment would differ from VADER's? What do you think is going on with these examples?"
   ]
  },
  {
   "cell_type": "code",
   "execution_count": 6,
   "id": "096845f7",
   "metadata": {
    "slideshow": {
     "slide_type": "-"
    }
   },
   "outputs": [],
   "source": [
    "### Your code here"
   ]
  },
  {
   "cell_type": "markdown",
   "id": "dc67bb11",
   "metadata": {
    "slideshow": {
     "slide_type": "slide"
    }
   },
   "source": [
    "### `SentimentIntensityAnalyzer` isn't perfect\n",
    "\n",
    "Plenty of cases where VADER diverges from our intuition.  \n",
    "\n",
    "1. Implied **sarcasm**.  \n",
    "2. Cultural **idioms** (\"not my cup of tea\"). \n",
    "\n",
    "We could maybe address (2) with *expanded lexicon*, but (1) is much harder.\n",
    "   "
   ]
  },
  {
   "cell_type": "code",
   "execution_count": 7,
   "id": "c0c634e6",
   "metadata": {
    "slideshow": {
     "slide_type": "-"
    }
   },
   "outputs": [
    {
     "data": {
      "text/plain": [
       "{'neg': 0.0, 'neu': 0.423, 'pos': 0.577, 'compound': 0.6249}"
      ]
     },
     "execution_count": 7,
     "metadata": {},
     "output_type": "execute_result"
    }
   ],
   "source": [
    "### Sarcasm\n",
    "sia.polarity_scores(\"Great, another Powerpoint presentation...\")"
   ]
  },
  {
   "cell_type": "code",
   "execution_count": 8,
   "id": "deb7e401",
   "metadata": {
    "slideshow": {
     "slide_type": "-"
    }
   },
   "outputs": [
    {
     "data": {
      "text/plain": [
       "{'neg': 0.0, 'neu': 1.0, 'pos': 0.0, 'compound': 0.0}"
      ]
     },
     "execution_count": 8,
     "metadata": {},
     "output_type": "execute_result"
    }
   ],
   "source": [
    "### Cultural specificity\n",
    "sia.polarity_scores(\"That movie wasn't my cup of tea\")"
   ]
  },
  {
   "cell_type": "markdown",
   "id": "e8913b64",
   "metadata": {
    "slideshow": {
     "slide_type": "slide"
    }
   },
   "source": [
    "### Sentiment analysis in the age of LLMs\n",
    "\n",
    "- Nowadays, it's more common to use **language models** for sentiment analysis.  \n",
    "- A **large language model (LLM)** is trained to do next-word prediction on a bunch (billions!) of words.  \n",
    "- Over time, these LLMs learn useful **representations** about language.  \n",
    "   - We can then **fine-tune** them to predict `pos`/`neg` from these implicit representations.\n",
    "- Less need to build explicit *lexicon* or *rules*.\n",
    "   - Though these are also black boxes!\n",
    "   \n",
    "We'll discuss LLMs more towards the end of the quarter."
   ]
  },
  {
   "cell_type": "markdown",
   "id": "62b6fa53",
   "metadata": {
    "slideshow": {
     "slide_type": "slide"
    }
   },
   "source": [
    "## Corpora\n",
    "\n",
    "> `nltk` also contains a number of *corpora* (language data) and *knowledge bases* (structured representations of language, e.g., `WordNet`). \n",
    "\n",
    "- **Corpora**: useful for *evaluating* NLP algorithms, studying language use, etc.  \n",
    "- **Knowledge base**: useful for *augmenting* NLP tools.\n",
    "\n",
    "We'll focus on *corpora*; an NLP-specific course could discuss knowledge bases in more detail."
   ]
  },
  {
   "cell_type": "markdown",
   "id": "8b59fee9",
   "metadata": {
    "slideshow": {
     "slide_type": "slide"
    }
   },
   "source": [
    "### A quick look at *corpora* in `nltk`\n",
    "\n",
    "> The [`nltk.corpus` package](https://www.nltk.org/api/nltk.corpus.html) has a number of available *corpora*, including grammars, books, and more.\n",
    "\n",
    "- `nltk.corpus.gutenberg`: select texts from [Project Gutenberg](https://www.gutenberg.org/).\n",
    "- `nltk.corpus.brown`: corpus (1M words) of news, editorials, and more.  \n",
    "- `nltk.corpus.reuters`: ~10K news articles with *categories* (e.g., \"trade\").  \n",
    "- `nltk.corpus.reviews`: movie reviews labeled with *sentiment*.  \n",
    "- `nltk.corpus.inaugural`: a collection of presidential inaugural addresses."
   ]
  },
  {
   "cell_type": "markdown",
   "id": "3b9484d1",
   "metadata": {
    "slideshow": {
     "slide_type": "slide"
    }
   },
   "source": [
    "### Zooming in: `gutenberg`"
   ]
  },
  {
   "cell_type": "code",
   "execution_count": 9,
   "id": "0c7e5be4",
   "metadata": {
    "slideshow": {
     "slide_type": "-"
    }
   },
   "outputs": [
    {
     "name": "stderr",
     "output_type": "stream",
     "text": [
      "[nltk_data] Downloading package gutenberg to\n",
      "[nltk_data]     /Users/seantrott/nltk_data...\n",
      "[nltk_data]   Package gutenberg is already up-to-date!\n"
     ]
    }
   ],
   "source": [
    "### must first *download*\n",
    "nltk.download('gutenberg')\n",
    "### import\n",
    "from nltk.corpus import gutenberg"
   ]
  },
  {
   "cell_type": "code",
   "execution_count": 10,
   "id": "119cb932",
   "metadata": {
    "slideshow": {
     "slide_type": "-"
    }
   },
   "outputs": [
    {
     "data": {
      "text/plain": [
       "['austen-emma.txt',\n",
       " 'austen-persuasion.txt',\n",
       " 'austen-sense.txt',\n",
       " 'bible-kjv.txt',\n",
       " 'blake-poems.txt']"
      ]
     },
     "execution_count": 10,
     "metadata": {},
     "output_type": "execute_result"
    }
   ],
   "source": [
    "### Sample files\n",
    "gutenberg.fileids()[0:5]"
   ]
  },
  {
   "cell_type": "markdown",
   "id": "5d61faae",
   "metadata": {
    "slideshow": {
     "slide_type": "slide"
    }
   },
   "source": [
    "#### Using `gutenberg`\n",
    "\n",
    "Given a `fileid`, `gutenberg` can load the *tokenized words* for that text.  \n",
    "\n",
    "```python\n",
    "gutenberg.words(FILEID_HERE)\n",
    "```\n",
    "\n",
    "Or the *tokenized sentences*:\n",
    "\n",
    "```python\n",
    "gutenberg.sents(FILEID_HERE)\n",
    "```"
   ]
  },
  {
   "cell_type": "code",
   "execution_count": 11,
   "id": "ef613fc0",
   "metadata": {
    "slideshow": {
     "slide_type": "-"
    }
   },
   "outputs": [
    {
     "data": {
      "text/plain": [
       "[['[', 'Emma', 'by', 'Jane', 'Austen', '1816', ']'], ['VOLUME', 'I'], ...]"
      ]
     },
     "execution_count": 11,
     "metadata": {},
     "output_type": "execute_result"
    }
   ],
   "source": [
    "emma = gutenberg.sents(\"austen-emma.txt\")\n",
    "emma"
   ]
  },
  {
   "cell_type": "code",
   "execution_count": 12,
   "id": "ab4cd7ab",
   "metadata": {
    "slideshow": {
     "slide_type": "-"
    }
   },
   "outputs": [
    {
     "data": {
      "text/plain": [
       "7752"
      ]
     },
     "execution_count": 12,
     "metadata": {},
     "output_type": "execute_result"
    }
   ],
   "source": [
    "len(emma) ### number of sentences"
   ]
  },
  {
   "cell_type": "markdown",
   "id": "5f01f084",
   "metadata": {
    "slideshow": {
     "slide_type": "slide"
    }
   },
   "source": [
    "#### Check-in\n",
    "\n",
    "Use the `SentimentIntensityAnalyzer` for each *sentence* in *Emma*. Then plot the trajectory of sentiment over the book in terms of sentences. \n",
    "\n",
    "**Note**: You may need to first `.join` each sentence, since they're represented as lists of words."
   ]
  },
  {
   "cell_type": "code",
   "execution_count": 13,
   "id": "03f46c07",
   "metadata": {
    "slideshow": {
     "slide_type": "-"
    }
   },
   "outputs": [],
   "source": [
    "### Your code here"
   ]
  },
  {
   "cell_type": "markdown",
   "id": "5eb720d1",
   "metadata": {
    "slideshow": {
     "slide_type": "slide"
    }
   },
   "source": [
    "#### Step 1: get sentiment"
   ]
  },
  {
   "cell_type": "code",
   "execution_count": 14,
   "id": "6b87fee5",
   "metadata": {},
   "outputs": [],
   "source": [
    "joined_sentences = [' '.join(s) for s in emma]\n",
    "df_sentences = pd.DataFrame({'sentence': joined_sentences})\n",
    "df_sentences['sentiment'] = df_sentences['sentence'].apply(lambda x: sia.polarity_scores(x)['compound'])"
   ]
  },
  {
   "cell_type": "code",
   "execution_count": 15,
   "id": "dd462f04",
   "metadata": {
    "slideshow": {
     "slide_type": "-"
    }
   },
   "outputs": [
    {
     "data": {
      "text/html": [
       "<div>\n",
       "<style scoped>\n",
       "    .dataframe tbody tr th:only-of-type {\n",
       "        vertical-align: middle;\n",
       "    }\n",
       "\n",
       "    .dataframe tbody tr th {\n",
       "        vertical-align: top;\n",
       "    }\n",
       "\n",
       "    .dataframe thead th {\n",
       "        text-align: right;\n",
       "    }\n",
       "</style>\n",
       "<table border=\"1\" class=\"dataframe\">\n",
       "  <thead>\n",
       "    <tr style=\"text-align: right;\">\n",
       "      <th></th>\n",
       "      <th>sentence</th>\n",
       "      <th>sentiment</th>\n",
       "    </tr>\n",
       "  </thead>\n",
       "  <tbody>\n",
       "    <tr>\n",
       "      <th>0</th>\n",
       "      <td>[ Emma by Jane Austen 1816 ]</td>\n",
       "      <td>0.0000</td>\n",
       "    </tr>\n",
       "    <tr>\n",
       "      <th>1</th>\n",
       "      <td>VOLUME I</td>\n",
       "      <td>0.0000</td>\n",
       "    </tr>\n",
       "    <tr>\n",
       "      <th>2</th>\n",
       "      <td>CHAPTER I</td>\n",
       "      <td>0.0000</td>\n",
       "    </tr>\n",
       "    <tr>\n",
       "      <th>3</th>\n",
       "      <td>Emma Woodhouse , handsome , clever , and rich ...</td>\n",
       "      <td>0.9687</td>\n",
       "    </tr>\n",
       "    <tr>\n",
       "      <th>4</th>\n",
       "      <td>She was the youngest of the two daughters of a...</td>\n",
       "      <td>0.4927</td>\n",
       "    </tr>\n",
       "  </tbody>\n",
       "</table>\n",
       "</div>"
      ],
      "text/plain": [
       "                                            sentence  sentiment\n",
       "0                       [ Emma by Jane Austen 1816 ]     0.0000\n",
       "1                                           VOLUME I     0.0000\n",
       "2                                          CHAPTER I     0.0000\n",
       "3  Emma Woodhouse , handsome , clever , and rich ...     0.9687\n",
       "4  She was the youngest of the two daughters of a...     0.4927"
      ]
     },
     "execution_count": 15,
     "metadata": {},
     "output_type": "execute_result"
    }
   ],
   "source": [
    "df_sentences.head(5)"
   ]
  },
  {
   "cell_type": "markdown",
   "id": "018af00e",
   "metadata": {
    "slideshow": {
     "slide_type": "slide"
    }
   },
   "source": [
    "#### Step 2: moving average\n",
    "\n",
    "Let's create a *moving average* over 500 sentences. (Feel free to try changing the window size!)"
   ]
  },
  {
   "cell_type": "code",
   "execution_count": 16,
   "id": "c77628a9",
   "metadata": {
    "slideshow": {
     "slide_type": "-"
    }
   },
   "outputs": [
    {
     "data": {
      "text/html": [
       "<div>\n",
       "<style scoped>\n",
       "    .dataframe tbody tr th:only-of-type {\n",
       "        vertical-align: middle;\n",
       "    }\n",
       "\n",
       "    .dataframe tbody tr th {\n",
       "        vertical-align: top;\n",
       "    }\n",
       "\n",
       "    .dataframe thead th {\n",
       "        text-align: right;\n",
       "    }\n",
       "</style>\n",
       "<table border=\"1\" class=\"dataframe\">\n",
       "  <thead>\n",
       "    <tr style=\"text-align: right;\">\n",
       "      <th></th>\n",
       "      <th>sentence</th>\n",
       "      <th>sentiment</th>\n",
       "      <th>sentiment_smoothed</th>\n",
       "    </tr>\n",
       "  </thead>\n",
       "  <tbody>\n",
       "    <tr>\n",
       "      <th>0</th>\n",
       "      <td>[ Emma by Jane Austen 1816 ]</td>\n",
       "      <td>0.0000</td>\n",
       "      <td>0.000000</td>\n",
       "    </tr>\n",
       "    <tr>\n",
       "      <th>1</th>\n",
       "      <td>VOLUME I</td>\n",
       "      <td>0.0000</td>\n",
       "      <td>0.000000</td>\n",
       "    </tr>\n",
       "    <tr>\n",
       "      <th>2</th>\n",
       "      <td>CHAPTER I</td>\n",
       "      <td>0.0000</td>\n",
       "      <td>0.000000</td>\n",
       "    </tr>\n",
       "    <tr>\n",
       "      <th>3</th>\n",
       "      <td>Emma Woodhouse , handsome , clever , and rich ...</td>\n",
       "      <td>0.9687</td>\n",
       "      <td>0.242175</td>\n",
       "    </tr>\n",
       "    <tr>\n",
       "      <th>4</th>\n",
       "      <td>She was the youngest of the two daughters of a...</td>\n",
       "      <td>0.4927</td>\n",
       "      <td>0.292280</td>\n",
       "    </tr>\n",
       "  </tbody>\n",
       "</table>\n",
       "</div>"
      ],
      "text/plain": [
       "                                            sentence  sentiment  \\\n",
       "0                       [ Emma by Jane Austen 1816 ]     0.0000   \n",
       "1                                           VOLUME I     0.0000   \n",
       "2                                          CHAPTER I     0.0000   \n",
       "3  Emma Woodhouse , handsome , clever , and rich ...     0.9687   \n",
       "4  She was the youngest of the two daughters of a...     0.4927   \n",
       "\n",
       "   sentiment_smoothed  \n",
       "0            0.000000  \n",
       "1            0.000000  \n",
       "2            0.000000  \n",
       "3            0.242175  \n",
       "4            0.292280  "
      ]
     },
     "execution_count": 16,
     "metadata": {},
     "output_type": "execute_result"
    }
   ],
   "source": [
    "df_sentences['sentiment_smoothed'] = df_sentences['sentiment'].rolling(window=500, \n",
    "                                                                       min_periods=1).mean()\n",
    "df_sentences.head(5)"
   ]
  },
  {
   "cell_type": "markdown",
   "id": "94120a8b",
   "metadata": {
    "slideshow": {
     "slide_type": "slide"
    }
   },
   "source": [
    "#### Step 3: plot!"
   ]
  },
  {
   "cell_type": "code",
   "execution_count": 17,
   "id": "fd3fa3ad",
   "metadata": {
    "slideshow": {
     "slide_type": "-"
    }
   },
   "outputs": [
    {
     "data": {
      "text/plain": [
       "[<matplotlib.lines.Line2D at 0x1753f2810>]"
      ]
     },
     "execution_count": 17,
     "metadata": {},
     "output_type": "execute_result"
    },
    {
     "data": {
      "image/png": "[encoded data removed]",
      "text/plain": [
       "<Figure size 640x480 with 1 Axes>"
      ]
     },
     "metadata": {},
     "output_type": "display_data"
    }
   ],
   "source": [
    "plt.plot(df_sentences['sentiment_smoothed'])"
   ]
  },
  {
   "cell_type": "markdown",
   "id": "89654f5a",
   "metadata": {
    "slideshow": {
     "slide_type": "slide"
    }
   },
   "source": [
    "#### Check-in\n",
    "\n",
    "Now do the same thing for `shakespeare-hamlet.txt`. Does it match your intuitions?"
   ]
  },
  {
   "cell_type": "code",
   "execution_count": 18,
   "id": "e5315dd6",
   "metadata": {
    "slideshow": {
     "slide_type": "-"
    }
   },
   "outputs": [],
   "source": [
    "### Your code here"
   ]
  },
  {
   "cell_type": "markdown",
   "id": "32a342d7",
   "metadata": {
    "slideshow": {
     "slide_type": "slide"
    }
   },
   "source": [
    "#### Analyzing *Hamlet*"
   ]
  },
  {
   "cell_type": "code",
   "execution_count": 19,
   "id": "f2e442de",
   "metadata": {
    "slideshow": {
     "slide_type": "-"
    }
   },
   "outputs": [
    {
     "data": {
      "text/html": [
       "<div>\n",
       "<style scoped>\n",
       "    .dataframe tbody tr th:only-of-type {\n",
       "        vertical-align: middle;\n",
       "    }\n",
       "\n",
       "    .dataframe tbody tr th {\n",
       "        vertical-align: top;\n",
       "    }\n",
       "\n",
       "    .dataframe thead th {\n",
       "        text-align: right;\n",
       "    }\n",
       "</style>\n",
       "<table border=\"1\" class=\"dataframe\">\n",
       "  <thead>\n",
       "    <tr style=\"text-align: right;\">\n",
       "      <th></th>\n",
       "      <th>sentence</th>\n",
       "      <th>sentiment</th>\n",
       "      <th>sentiment_smoothed</th>\n",
       "    </tr>\n",
       "  </thead>\n",
       "  <tbody>\n",
       "    <tr>\n",
       "      <th>0</th>\n",
       "      <td>[ The Tragedie of Hamlet by William Shakespear...</td>\n",
       "      <td>0.0</td>\n",
       "      <td>0.0</td>\n",
       "    </tr>\n",
       "    <tr>\n",
       "      <th>1</th>\n",
       "      <td>Actus Primus .</td>\n",
       "      <td>0.0</td>\n",
       "      <td>0.0</td>\n",
       "    </tr>\n",
       "    <tr>\n",
       "      <th>2</th>\n",
       "      <td>Scoena Prima .</td>\n",
       "      <td>0.0</td>\n",
       "      <td>0.0</td>\n",
       "    </tr>\n",
       "    <tr>\n",
       "      <th>3</th>\n",
       "      <td>Enter Barnardo and Francisco two Centinels .</td>\n",
       "      <td>0.0</td>\n",
       "      <td>0.0</td>\n",
       "    </tr>\n",
       "    <tr>\n",
       "      <th>4</th>\n",
       "      <td>Barnardo .</td>\n",
       "      <td>0.0</td>\n",
       "      <td>0.0</td>\n",
       "    </tr>\n",
       "  </tbody>\n",
       "</table>\n",
       "</div>"
      ],
      "text/plain": [
       "                                            sentence  sentiment  \\\n",
       "0  [ The Tragedie of Hamlet by William Shakespear...        0.0   \n",
       "1                                     Actus Primus .        0.0   \n",
       "2                                     Scoena Prima .        0.0   \n",
       "3       Enter Barnardo and Francisco two Centinels .        0.0   \n",
       "4                                         Barnardo .        0.0   \n",
       "\n",
       "   sentiment_smoothed  \n",
       "0                 0.0  \n",
       "1                 0.0  \n",
       "2                 0.0  \n",
       "3                 0.0  \n",
       "4                 0.0  "
      ]
     },
     "execution_count": 19,
     "metadata": {},
     "output_type": "execute_result"
    }
   ],
   "source": [
    "hamlet_sentences = gutenberg.sents(\"shakespeare-hamlet.txt\")\n",
    "joined_sentences = [' '.join(s) for s in hamlet_sentences]\n",
    "df_sentences = pd.DataFrame({'sentence': joined_sentences})\n",
    "df_sentences['sentiment'] = df_sentences['sentence'].apply(lambda x: sia.polarity_scores(x)['compound'])\n",
    "df_sentences['sentiment_smoothed'] = df_sentences['sentiment'].rolling(window=500, \n",
    "                                                                       min_periods=1).mean()\n",
    "df_sentences.head(5)"
   ]
  },
  {
   "cell_type": "code",
   "execution_count": 20,
   "id": "33f5e7f0",
   "metadata": {
    "slideshow": {
     "slide_type": "-"
    }
   },
   "outputs": [
    {
     "data": {
      "text/plain": [
       "Text(0, 0.5, 'Sentiment (moving average)')"
      ]
     },
     "execution_count": 20,
     "metadata": {},
     "output_type": "execute_result"
    },
    {
     "data": {
      "image/png": "[encoded data removed]",
      "text/plain": [
       "<Figure size 640x480 with 1 Axes>"
      ]
     },
     "metadata": {},
     "output_type": "display_data"
    }
   ],
   "source": [
    "plt.plot(df_sentences['sentiment_smoothed'])\n",
    "plt.xlabel(\"Sentence index\")\n",
    "plt.ylabel(\"Sentiment (moving average)\")"
   ]
  },
  {
   "cell_type": "markdown",
   "id": "525ba2b4",
   "metadata": {
    "slideshow": {
     "slide_type": "slide"
    }
   },
   "source": [
    "### Exploring corpora\n",
    "\n",
    "- `nltk` has many other *corpora*, including movie reviews, news articles, and more.  \n",
    "- We'll revisit some of those throughout the class.  \n",
    "- I encourage you to explore them yourself as well!"
   ]
  },
  {
   "cell_type": "markdown",
   "id": "07d480fb",
   "metadata": {
    "slideshow": {
     "slide_type": "slide"
    }
   },
   "source": [
    "## Lecture wrap-up\n",
    "\n",
    "- `nltk` is a powerful package with lots to offer.  \n",
    "- Despite LLM advances, the `SentimentIntensityAnalyzer` remains a useful, efficient tool for **sentiment analysis**.  \n",
    "- `nltk` also contains a number of useful corpora for textual analysis."
   ]
  }
 ],
 "metadata": {
  "celltoolbar": "Slideshow",
  "kernelspec": {
   "display_name": "Python 3 (ipykernel)",
   "language": "python",
   "name": "python3"
  },
  "language_info": {
   "codemirror_mode": {
    "name": "ipython",
    "version": 3
   },
   "file_extension": ".py",
   "mimetype": "text/x-python",
   "name": "python",
   "nbconvert_exporter": "python",
   "pygments_lexer": "ipython3",
   "version": "3.11.0"
  }
 },
 "nbformat": 4,
 "nbformat_minor": 5
}
