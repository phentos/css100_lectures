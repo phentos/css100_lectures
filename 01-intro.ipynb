{
 "cells": [
  {
   "cell_type": "markdown",
   "id": "cb2fd0a8",
   "metadata": {
    "slideshow": {
     "slide_type": "slide"
    }
   },
   "source": [
    "# Introduction to CSS 100"
   ]
  },
  {
   "cell_type": "markdown",
   "id": "87a4e13e",
   "metadata": {
    "slideshow": {
     "slide_type": "slide"
    }
   },
   "source": [
    "## Goals of this lecture\n",
    "\n",
    "- Quick introductions.\n",
    "- Overview of class content. \n",
    "  - Brief tour of CSS 100.\n",
    "- Course logistics."
   ]
  },
  {
   "cell_type": "markdown",
   "id": "a9b50e87",
   "metadata": {
    "slideshow": {
     "slide_type": "slide"
    }
   },
   "source": [
    "## Who are we?\n",
    "\n",
    "**Teaching Team**:\n",
    "\n",
    "- [Sean Trott](https://seantrott.github.io/): Assistant Teaching Professor in Cognitive Science and CSS. \n",
    "   - Research: Large language models (LLMs) and human language comprehension.\n",
    "- TAs: Muhammad Karim."
   ]
  },
  {
   "cell_type": "markdown",
   "id": "340ec5c4",
   "metadata": {
    "slideshow": {
     "slide_type": "slide"
    }
   },
   "source": [
    "## Course Overview"
   ]
  },
  {
   "cell_type": "markdown",
   "id": "a92c4b70",
   "metadata": {
    "slideshow": {
     "slide_type": "slide"
    }
   },
   "source": [
    "### What is CSS?\n",
    "\n",
    "In a nutshell, [Computational Social Science](https://en.wikipedia.org/wiki/Computational_social_science) focuses on **computational approaches** to **social science**.\n",
    "\n",
    "At UCSD, [Social Sciences](https://socialsciences.ucsd.edu/) encompasses many disciplines:\n",
    "\n",
    "- Psychology.  \n",
    "- Economics.\n",
    "- Political Science.\n",
    "- Cognitive Science. \n",
    "- Urban Studies and Planning.  \n",
    "\n",
    "And [many more](https://socialsciences.ucsd.edu/about/org-chart.html)!"
   ]
  },
  {
   "cell_type": "markdown",
   "id": "f3810ec8",
   "metadata": {
    "slideshow": {
     "slide_type": "slide"
    }
   },
   "source": [
    "### CSS 100 in the UCSD CSS Ecosystem\n",
    "\n",
    "**CSS 100** is one of the [three core courses for the CSS undergraduate minor](https://css.ucsd.edu/undergraduate-minor/index.html).\n",
    "\n",
    "- CSS 1: Introduction to Python programming (and a little bit of data science).  \n",
    "- CSS 2: Ethics, wrangling, visualizing, and basic modeling of social science data. \n",
    "- CSS 100: Advanced programming for CSS.\n",
    "\n",
    "CSS is very *broad*: so what should \"advanced programming\" cover?"
   ]
  },
  {
   "cell_type": "markdown",
   "id": "0d6c6c14",
   "metadata": {
    "slideshow": {
     "slide_type": "slide"
    }
   },
   "source": [
    "### CSS 100: Various perspectives\n",
    "\n",
    "> **CSS 100** equips students with *advanced techniques* for processing, modeling, and analyzing social science data of various kinds.\n",
    "\n",
    "- Building on *CSS 1*.\n",
    "   - \"Leveing up\" programming skills.\n",
    "- Building on *CSS 2*.\n",
    "   - *Supervised* and *unsupervised* machine learning techniques.  \n",
    "   - Techniques for *inferential statistics* (e.g., **resampling**). \n",
    "- New content!\n",
    "   - [Natural Language Processing (NLP)](https://en.wikipedia.org/wiki/Natural_language_processing): using text as data!\n",
    "   - [Deep learning](https://en.wikipedia.org/wiki/Deep_learning) and [Large Language Models](https://en.wikipedia.org/wiki/Large_language_model). "
   ]
  },
  {
   "cell_type": "markdown",
   "id": "6c0b9c4f",
   "metadata": {
    "slideshow": {
     "slide_type": "slide"
    }
   },
   "source": [
    "### Building on CSS 1: Leveling up programming\n",
    "\n",
    "CSS 1 (or equivalent) builds **foundational Python programming skills**.\n",
    "\n",
    "- *Control flow*: `for` loops, `if/else` statements.  \n",
    "- *Functions*: default arguments, etc. \n",
    "- *Collections*: `list`s, `dict`ionaries, and more.  \n",
    "\n",
    "CSS 100 will *strengthen* that foundation, introduce [object-oriented programming (OOP)](https://en.wikipedia.org/wiki/Object-oriented_programming), and discuss [`Exceptions`](https://docs.python.org/3/tutorial/errors.html). "
   ]
  },
  {
   "cell_type": "markdown",
   "id": "f3443c53",
   "metadata": {
    "slideshow": {
     "slide_type": "slide"
    }
   },
   "source": [
    "### From functions to classes\n",
    "\n",
    "> **Object-oriented programming** is a programming paradigm based on *objects* (i.e., `class`es), which contain associated *data* and *functions*."
   ]
  },
  {
   "cell_type": "code",
   "execution_count": 1,
   "id": "56de7826",
   "metadata": {
    "slideshow": {
     "slide_type": "-"
    }
   },
   "outputs": [],
   "source": [
    "class BankAccount():\n",
    "    def __init__(self):\n",
    "        self.amount = 0\n",
    "    \n",
    "    def deposit(self, x):\n",
    "        self.amount += x"
   ]
  },
  {
   "cell_type": "code",
   "execution_count": 2,
   "id": "8d1476d0",
   "metadata": {
    "slideshow": {
     "slide_type": "-"
    }
   },
   "outputs": [
    {
     "name": "stdout",
     "output_type": "stream",
     "text": [
      "0\n"
     ]
    }
   ],
   "source": [
    "my_accuont = BankAccount()\n",
    "print(my_accuont.amount)"
   ]
  },
  {
   "cell_type": "code",
   "execution_count": 3,
   "id": "c5f74437",
   "metadata": {
    "slideshow": {
     "slide_type": "-"
    }
   },
   "outputs": [
    {
     "name": "stdout",
     "output_type": "stream",
     "text": [
      "10\n"
     ]
    }
   ],
   "source": [
    "my_accuont.deposit(10)\n",
    "print(my_accuont.amount)"
   ]
  },
  {
   "cell_type": "markdown",
   "id": "d6af7748",
   "metadata": {
    "slideshow": {
     "slide_type": "slide"
    }
   },
   "source": [
    "### Building on CSS 2: Modeling your data\n",
    "\n",
    "CSS 2 (or equivalent) builds **skills for data wrangling, visualization, and analysis**.  \n",
    "\n",
    "- Importing and wrangling `.csv` files with `pandas`.   \n",
    "- Visualizing data using `seaborn` and `matplotlib`.  \n",
    "- Building regression models with `statsmodels`.  \n",
    "- Cross-validation and clustering with `scikit-learn`.  \n",
    "\n",
    "CSS 100 will introduce new **supervised** and **unsupervised** techniques for modeling your data."
   ]
  },
  {
   "cell_type": "markdown",
   "id": "a1eaf960",
   "metadata": {
    "slideshow": {
     "slide_type": "slide"
    }
   },
   "source": [
    "### Advanced machine learning techniques\n",
    "\n",
    "> **sSpervised learning** involves mapping from features $X$ to labeled data $Y$.\n",
    "\n",
    "- Advanced regression techniqes (**regularization**).  \n",
    "- Beyond regression: **random forests**, **support vector machines (SVM)**.\n",
    "\n",
    "> **Unsupervised learning** involves analyzing or modeling unlabeled data $X$.\n",
    "\n",
    "- Extracting structure with **hierarchical clustering**.\n",
    "- Dimensionality reduction with **principal components analysis**.  "
   ]
  },
  {
   "cell_type": "markdown",
   "id": "b72dfdf6",
   "metadata": {
    "slideshow": {
     "slide_type": "slide"
    }
   },
   "source": [
    "### New content!\n",
    "\n",
    "We will also introduce several *new* topics.\n",
    "\n",
    "- Techniques for [Natural Language Processing (NLP)](https://en.wikipedia.org/wiki/Natural_language_processing): using text as data.\n",
    "   - Tokenization and sentiment analysis with `nltk`.  \n",
    "   - Parsing and embeddings with `spaCy`.  \n",
    "- [Deep learning](https://en.wikipedia.org/wiki/Deep_learning).\n",
    "   - Basics of *neural networks*.  \n",
    "   - Building a simple neural network in Python.  \n",
    "- [Large Language Models](https://en.wikipedia.org/wiki/Large_language_model). \n",
    "   - LLMs: architectures, approaches, and background.\n",
    "   - Introduction to `transformers`, a popular Python package for using LLMs."
   ]
  },
  {
   "cell_type": "markdown",
   "id": "02f75d7d",
   "metadata": {
    "slideshow": {
     "slide_type": "slide"
    }
   },
   "source": [
    "## Course Logistics"
   ]
  },
  {
   "cell_type": "markdown",
   "id": "4c238353",
   "metadata": {
    "slideshow": {
     "slide_type": "slide"
    }
   },
   "source": [
    "## Course Structure\n",
    "\n",
    "Class time is divided into *lecture* and *section*.\n",
    "\n",
    "- Lecture is a time to **introduce**, **explain**, and **demonstrate** new concepts.  \n",
    "  - There will be a focus on **hands-on practice** (i.e., \"check-ins\"). \n",
    "- Section is a time to **practice** and **develop further fluency** with these concepts.  \n"
   ]
  },
  {
   "cell_type": "markdown",
   "id": "4b444809",
   "metadata": {
    "slideshow": {
     "slide_type": "slide"
    }
   },
   "source": [
    "### Following along in lecture\n",
    "\n",
    "- Lecture will have many opportunities to **follow along** via **check-ins**.  \n",
    "- I do recommend doing this, whether you're in-person or watching the podcast! \n",
    "- The lectures can all be found on GitHub, and downloaded or **cloned** into your DataHub account: \n",
    "   - Link: https://github.com/seantrott/css100_lectures\n",
    "   - Will be updated throughout quarter."
   ]
  },
  {
   "cell_type": "markdown",
   "id": "5392078a",
   "metadata": {
    "slideshow": {
     "slide_type": "slide"
    }
   },
   "source": [
    "### Grading and Assessments\n",
    "\n",
    "- Most weeks will have a **coding lab** due the following week.\n",
    "- There are also **four problem sets**, which will be auto-graded.\n",
    "- There is also a **final exam**–: half-Canvas, half-DataHub (all online).\n",
    "\n",
    "| Grade Component | Percentage of Final Grade |\n",
    "| --------------- | ------------------------- |\n",
    "| 8 Coding Labs | 50% (6.25% each) |\n",
    "| 4 Problem Sets | 32% (8% each) |\n",
    "| 1 Final Exam| 18% |"
   ]
  },
  {
   "cell_type": "markdown",
   "id": "b31c0704",
   "metadata": {
    "slideshow": {
     "slide_type": "slide"
    }
   },
   "source": [
    "### Expectations\n",
    "\n",
    "- Course will involve programming in Python.  \n",
    "  - We will review basics, but expectations include [CSS 1 content](https://ucsd-css2.github.io/ucsd-css2-website/course/expectations.html) and [CSS 2 content](https://ucsd-css2.github.io/ucsd-css2-website/course/syllabus.html). \n",
    "  - Lab 1 will include some review of data wrangling, etc.\n",
    "- Will also involve using **DataHub** (and Jupyter notebooks).\n",
    "- Lecture/section attendance not required.  "
   ]
  },
  {
   "cell_type": "markdown",
   "id": "4015ac7e",
   "metadata": {
    "slideshow": {
     "slide_type": "slide"
    }
   },
   "source": [
    "### Academic Integrity\n",
    "\n",
    "From the syllabus:\n",
    "\n",
    "> Please turn in your own work. While you are encouraged to work together on some assignments (e.g., on [labs](../labs/overview.md)), you should still understand the code you've submitted. Problem sets and final project should be completed independently.\n",
    "\n",
    "> Please review academic integrity policies [here](http://academicintegrity.ucsd.edu). Cheating and plagiarism are unfair to other students and ultimately to yourself, and you will be penalized if caught. Instead, if you're struggling with something, please come to office hours and ask for help! \n"
   ]
  },
  {
   "cell_type": "markdown",
   "id": "4aae1b71",
   "metadata": {
    "slideshow": {
     "slide_type": "slide"
    }
   },
   "source": [
    "### Note on course modality\n",
    "\n",
    "- CSS 100 is an in-person course, although lectures will be *podcasted*.  \n"
   ]
  },
  {
   "cell_type": "markdown",
   "id": "3857bcf7",
   "metadata": {
    "slideshow": {
     "slide_type": "slide"
    }
   },
   "source": [
    "## Welcome to CSS!"
   ]
  }
 ],
 "metadata": {
  "celltoolbar": "Slideshow",
  "kernelspec": {
   "display_name": "Python 3 (ipykernel)",
   "language": "python",
   "name": "python3"
  },
  "language_info": {
   "codemirror_mode": {
    "name": "ipython",
    "version": 3
   },
   "file_extension": ".py",
   "mimetype": "text/x-python",
   "name": "python",
   "nbconvert_exporter": "python",
   "pygments_lexer": "ipython3",
   "version": "3.11.0"
  }
 },
 "nbformat": 4,
 "nbformat_minor": 5
}
