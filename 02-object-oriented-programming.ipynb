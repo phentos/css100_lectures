{
 "cells": [
  {
   "cell_type": "markdown",
   "id": "88c4e333",
   "metadata": {
    "slideshow": {
     "slide_type": "slide"
    }
   },
   "source": [
    "# Object-oriented programming"
   ]
  },
  {
   "cell_type": "markdown",
   "id": "2897cd12",
   "metadata": {
    "slideshow": {
     "slide_type": "slide"
    }
   },
   "source": [
    "## Goals of this lecture\n",
    "\n",
    "- What is an `object`?  \n",
    "- Basic tenets of **object-oriented programming**.  \n",
    "- Defining a `class`.  \n",
    "   - Best practices. \n",
    "- Practice!\n",
    "- Additional features:\n",
    "   - Inheritance.  \n",
    "   - String representations.\n",
    "   - Operators."
   ]
  },
  {
   "cell_type": "markdown",
   "id": "ae78a2aa",
   "metadata": {
    "slideshow": {
     "slide_type": "slide"
    }
   },
   "source": [
    "## What are `object`s?\n",
    "\n",
    "> **Objects** are variables that (usually) contain data (*fields*) and functions (*methods*) that can be used to modify that data.\n",
    "\n",
    "- In Python, [everything is an object](https://linux.die.net/diveintopython/html/getting_to_know_python/everything_is_an_object.html#d0e4665)!  \n",
    "- The `type` function tells you the `class` of an *instance* (what \"kind\" of thing it is)."
   ]
  },
  {
   "cell_type": "code",
   "execution_count": 1,
   "id": "b4e7b416",
   "metadata": {
    "slideshow": {
     "slide_type": "-"
    }
   },
   "outputs": [
    {
     "name": "stdout",
     "output_type": "stream",
     "text": [
      "<class 'str'>\n"
     ]
    }
   ],
   "source": [
    "# String\n",
    "y = \"Hello, Python!\"\n",
    "print(type(y))  # Output: <class 'str'>"
   ]
  },
  {
   "cell_type": "code",
   "execution_count": 2,
   "id": "85930c62",
   "metadata": {
    "slideshow": {
     "slide_type": "-"
    }
   },
   "outputs": [
    {
     "data": {
      "text/plain": [
       "dict"
      ]
     },
     "execution_count": 2,
     "metadata": {},
     "output_type": "execute_result"
    }
   ],
   "source": [
    "# Dictionary\n",
    "my_dictionary = {'a': [1], 'b': [2]}\n",
    "type(my_dictionary) # Output: <class 'dict'>"
   ]
  },
  {
   "cell_type": "markdown",
   "id": "73caaf6b",
   "metadata": {
    "slideshow": {
     "slide_type": "slide"
    }
   },
   "source": [
    "### Functions are objects too!\n",
    "\n",
    "In Python, even **functions** are technically objects with the `function` type."
   ]
  },
  {
   "cell_type": "code",
   "execution_count": 3,
   "id": "9e724763",
   "metadata": {
    "slideshow": {
     "slide_type": "-"
    }
   },
   "outputs": [
    {
     "name": "stdout",
     "output_type": "stream",
     "text": [
      "<class 'function'>\n"
     ]
    }
   ],
   "source": [
    "# Function\n",
    "def my_function():\n",
    "    return True\n",
    "print(type(my_function))  # Output: <class 'function'>"
   ]
  },
  {
   "cell_type": "markdown",
   "id": "03058cf7",
   "metadata": {
    "slideshow": {
     "slide_type": "slide"
    }
   },
   "source": [
    "### So is a `DataFrame`\n",
    "\n",
    "- Most **imported libraries** in Python introduce a custom set of objects, like a `DataFrame` (from the `pandas` library).  \n",
    "- Any *instance* of a `DataFrame` has access to the same set of methods (e.g., `merge`, `mean`, etc.)."
   ]
  },
  {
   "cell_type": "code",
   "execution_count": 4,
   "id": "2dfc7ff6",
   "metadata": {
    "slideshow": {
     "slide_type": "-"
    }
   },
   "outputs": [],
   "source": [
    "## Import pandas\n",
    "import pandas as pd"
   ]
  },
  {
   "cell_type": "code",
   "execution_count": 5,
   "id": "2afa0641",
   "metadata": {
    "slideshow": {
     "slide_type": "-"
    }
   },
   "outputs": [
    {
     "data": {
      "text/html": [
       "<div>\n",
       "<style scoped>\n",
       "    .dataframe tbody tr th:only-of-type {\n",
       "        vertical-align: middle;\n",
       "    }\n",
       "\n",
       "    .dataframe tbody tr th {\n",
       "        vertical-align: top;\n",
       "    }\n",
       "\n",
       "    .dataframe thead th {\n",
       "        text-align: right;\n",
       "    }\n",
       "</style>\n",
       "<table border=\"1\" class=\"dataframe\">\n",
       "  <thead>\n",
       "    <tr style=\"text-align: right;\">\n",
       "      <th></th>\n",
       "      <th>a</th>\n",
       "      <th>b</th>\n",
       "    </tr>\n",
       "  </thead>\n",
       "  <tbody>\n",
       "    <tr>\n",
       "      <th>0</th>\n",
       "      <td>1</td>\n",
       "      <td>2</td>\n",
       "    </tr>\n",
       "  </tbody>\n",
       "</table>\n",
       "</div>"
      ],
      "text/plain": [
       "   a  b\n",
       "0  1  2"
      ]
     },
     "execution_count": 5,
     "metadata": {},
     "output_type": "execute_result"
    }
   ],
   "source": [
    "## Create DataFrame\n",
    "df = pd.DataFrame(my_dictionary)\n",
    "df"
   ]
  },
  {
   "cell_type": "code",
   "execution_count": 6,
   "id": "567f06b1",
   "metadata": {
    "scrolled": true,
    "slideshow": {
     "slide_type": "-"
    }
   },
   "outputs": [
    {
     "data": {
      "text/plain": [
       "pandas.core.frame.DataFrame"
      ]
     },
     "execution_count": 6,
     "metadata": {},
     "output_type": "execute_result"
    }
   ],
   "source": [
    "type(df)"
   ]
  },
  {
   "cell_type": "markdown",
   "id": "57fd10e7",
   "metadata": {
    "slideshow": {
     "slide_type": "slide"
    }
   },
   "source": [
    "### You can also *create* objects\n",
    "\n",
    "- Python allows you to *define* new classes.  \n",
    "- We'll discuss the details of this more later, but here's an example."
   ]
  },
  {
   "cell_type": "code",
   "execution_count": 7,
   "id": "7ad18156",
   "metadata": {
    "scrolled": true,
    "slideshow": {
     "slide_type": "-"
    }
   },
   "outputs": [],
   "source": [
    "class Course(object):\n",
    "    def __init__(self, department, number):\n",
    "        self.department = department\n",
    "        self.number = number"
   ]
  },
  {
   "cell_type": "code",
   "execution_count": 8,
   "id": "8cc093b8",
   "metadata": {
    "slideshow": {
     "slide_type": "-"
    }
   },
   "outputs": [
    {
     "name": "stdout",
     "output_type": "stream",
     "text": [
      "CSS\n",
      "100\n"
     ]
    }
   ],
   "source": [
    "course = Course(\"CSS\", 100)\n",
    "print(course.department)\n",
    "print(course.number)"
   ]
  },
  {
   "cell_type": "markdown",
   "id": "a250c620",
   "metadata": {
    "slideshow": {
     "slide_type": "slide"
    }
   },
   "source": [
    "## What is \"object-oriented programming\"?\n",
    "\n",
    "> **Object-oriented programming (OOP)** is a programming *paradigm* centered around the use of objects. Python is an object-oriented programming language.\n",
    "\n",
    "- OOP isn't the only game in town.\n",
    "   - *Functional programming* (e.g., `Lisp`).\n",
    "   - *Event-driven programming* (e.g., `JavaScript`). \n",
    "- But OOP is popular because it helps create *organized*, *modular* code. "
   ]
  },
  {
   "cell_type": "markdown",
   "id": "8b3cc045",
   "metadata": {
    "slideshow": {
     "slide_type": "slide"
    }
   },
   "source": [
    "### Basic tenets of object-oriented programming\n",
    "\n",
    "There are a few **tenets** of object-oriented programming:\n",
    "\n",
    "|**Tenet**|**Definition**|\n",
    "|-----|--------|\n",
    "|Encapsulation|Data and methods are *bundled* together into a single `class`.|\n",
    "|Abstraction|Hide the details, show only the critical features.|\n",
    "|Inheritance|New classes can *inherit* structure of old class.|\n",
    "|Polymorphism|Different *instances* (and *children*) have same structure but override *details*.|\n"
   ]
  },
  {
   "cell_type": "markdown",
   "id": "9d908ea8",
   "metadata": {
    "slideshow": {
     "slide_type": "slide"
    }
   },
   "source": [
    "### Example: An `Account`"
   ]
  },
  {
   "cell_type": "code",
   "execution_count": 9,
   "id": "3335438e",
   "metadata": {
    "slideshow": {
     "slide_type": "-"
    }
   },
   "outputs": [],
   "source": [
    "class Account:\n",
    "    def __init__(self, owner, balance=0):\n",
    "        self.owner = owner\n",
    "        self.balance = balance\n",
    "\n",
    "    def deposit(self, amount):\n",
    "        self.balance += amount"
   ]
  },
  {
   "cell_type": "code",
   "execution_count": 10,
   "id": "ce8f80d0",
   "metadata": {
    "slideshow": {
     "slide_type": "-"
    }
   },
   "outputs": [
    {
     "name": "stdout",
     "output_type": "stream",
     "text": [
      "Sean\n",
      "50\n"
     ]
    }
   ],
   "source": [
    "### Create an account *instance*\n",
    "account1 = Account(\"Sean\", 50)\n",
    "print(account1.owner)\n",
    "print(account1.balance)"
   ]
  },
  {
   "cell_type": "markdown",
   "id": "194e1b56",
   "metadata": {
    "slideshow": {
     "slide_type": "slide"
    }
   },
   "source": [
    "### The benefits of *encapsulation*\n",
    "\n",
    "The `Account` class now allows us to have *different* instances, which share the **same interface** (same methods and data types)."
   ]
  },
  {
   "cell_type": "code",
   "execution_count": 11,
   "id": "a5fb2c6d",
   "metadata": {
    "slideshow": {
     "slide_type": "-"
    }
   },
   "outputs": [
    {
     "name": "stdout",
     "output_type": "stream",
     "text": [
      "Josh\n",
      "50\n"
     ]
    }
   ],
   "source": [
    "### Create a new account for someone else\n",
    "account2 = Account(\"Josh\", 50)\n",
    "print(account2.owner)\n",
    "print(account2.balance)"
   ]
  },
  {
   "cell_type": "code",
   "execution_count": 12,
   "id": "0ad1f5cd",
   "metadata": {
    "slideshow": {
     "slide_type": "-"
    }
   },
   "outputs": [
    {
     "name": "stdout",
     "output_type": "stream",
     "text": [
      "50\n",
      "100\n"
     ]
    }
   ],
   "source": [
    "### Depositing in this account doesn't affect original!\n",
    "account2.deposit(50)\n",
    "print(account1.balance)\n",
    "print(account2.balance)"
   ]
  },
  {
   "cell_type": "markdown",
   "id": "baf3e6be",
   "metadata": {
    "slideshow": {
     "slide_type": "slide"
    }
   },
   "source": [
    "### The benefits of *abstraction*\n",
    "\n",
    "> An **abstraction barrier** hides the details of an operation behind some *abstraction* (a `class` or `function`).\n",
    "\n",
    "- You don't have to know how your engine works to drive the car (even if it does help!).\n",
    "- Similarly, you don't need to know:\n",
    "   - How `Account.deposit` is implemented.\n",
    "   - How `pandas.merge` is *implemented*."
   ]
  },
  {
   "cell_type": "markdown",
   "id": "f3979ddb",
   "metadata": {
    "slideshow": {
     "slide_type": "slide"
    }
   },
   "source": [
    "## Defining a `class`\n",
    "\n",
    "- In Python, we can use the `class` operator to define our class.\n",
    "- The `__init__` function is a **constructor** (it *initializes* the `class` with our arguments)."
   ]
  },
  {
   "cell_type": "code",
   "execution_count": 13,
   "id": "307f50f7",
   "metadata": {
    "slideshow": {
     "slide_type": "-"
    }
   },
   "outputs": [],
   "source": [
    "class Account: ## defines class\n",
    "    def __init__(self, owner, balance=0): ## constructor\n",
    "        self.owner = owner # field\n",
    "        self.balance = balance # field\n",
    "    def deposit(self, amount): ## a class-specific method\n",
    "        self.balance += amount # modifies field"
   ]
  },
  {
   "cell_type": "markdown",
   "id": "a992fe84",
   "metadata": {
    "slideshow": {
     "slide_type": "slide"
    }
   },
   "source": [
    "### Creating an *instance*\n",
    "\n",
    "> An **instance** of a class is a specific *realization* of the class (with specific attributes)."
   ]
  },
  {
   "cell_type": "code",
   "execution_count": 14,
   "id": "869ac0f3",
   "metadata": {
    "slideshow": {
     "slide_type": "-"
    }
   },
   "outputs": [
    {
     "data": {
      "text/plain": [
       "__main__.Account"
      ]
     },
     "execution_count": 14,
     "metadata": {},
     "output_type": "execute_result"
    }
   ],
   "source": [
    "my_account = Account(owner = \"Sean\", balance = 50) ### Creating instance\n",
    "type(my_account) ### \"Account\" type"
   ]
  },
  {
   "cell_type": "markdown",
   "id": "46f8d3fb",
   "metadata": {
    "slideshow": {
     "slide_type": "slide"
    }
   },
   "source": [
    "#### Check-in: creating your own instance\n",
    "\n",
    "Create an instance of `Account` with your own name and balance."
   ]
  },
  {
   "cell_type": "code",
   "execution_count": 15,
   "id": "8f6d372f",
   "metadata": {
    "slideshow": {
     "slide_type": "-"
    }
   },
   "outputs": [],
   "source": [
    "### Your code here"
   ]
  },
  {
   "cell_type": "markdown",
   "id": "1b0d46d0",
   "metadata": {
    "slideshow": {
     "slide_type": "slide"
    }
   },
   "source": [
    "### Class *methods*\n",
    "\n",
    "- Each `class` can have its own associated **methods**.  \n",
    "- The `Account` class was defined with a `deposit` method, but we could also have others."
   ]
  },
  {
   "cell_type": "code",
   "execution_count": 16,
   "id": "cd2e0ab9",
   "metadata": {
    "slideshow": {
     "slide_type": "-"
    }
   },
   "outputs": [
    {
     "data": {
      "text/plain": [
       "100"
      ]
     },
     "execution_count": 16,
     "metadata": {},
     "output_type": "execute_result"
    }
   ],
   "source": [
    "my_account.deposit(50)\n",
    "my_account.balance"
   ]
  },
  {
   "cell_type": "markdown",
   "id": "49547c82",
   "metadata": {
    "slideshow": {
     "slide_type": "slide"
    }
   },
   "source": [
    "#### Check-in: creating a new method\n",
    "\n",
    "Redefine the `Account` class to have a new `withdraw` method, which:\n",
    "\n",
    "- Takes an `amount` to withdraw as an argument.  \n",
    "- Modifies the `balance`."
   ]
  },
  {
   "cell_type": "code",
   "execution_count": 17,
   "id": "a2a19878",
   "metadata": {
    "slideshow": {
     "slide_type": "-"
    }
   },
   "outputs": [],
   "source": [
    "### Your code here"
   ]
  },
  {
   "cell_type": "markdown",
   "id": "8862bdb2",
   "metadata": {
    "slideshow": {
     "slide_type": "slide"
    }
   },
   "source": [
    "### Adding a `withdraw` method"
   ]
  },
  {
   "cell_type": "code",
   "execution_count": 18,
   "id": "8d423f30",
   "metadata": {
    "slideshow": {
     "slide_type": "-"
    }
   },
   "outputs": [],
   "source": [
    "class Account: ## defines class\n",
    "    def __init__(self, owner, balance=0): ## constructor\n",
    "        self.owner = owner # field\n",
    "        self.balance = balance # field\n",
    "    def deposit(self, amount): ## a class-specific method\n",
    "        self.balance += amount # modifies field\n",
    "    def withdraw(self, amount):\n",
    "        if amount <= self.balance:\n",
    "            self.balance -= amount\n",
    "        else:\n",
    "            print(\"Not enough money!\")"
   ]
  },
  {
   "cell_type": "markdown",
   "id": "9f12703c",
   "metadata": {
    "slideshow": {
     "slide_type": "slide"
    }
   },
   "source": [
    "#### Using `withdraw` method\n",
    "\n",
    "To use our method, we must create a new *instance*, since the old `my_account` is now outdated."
   ]
  },
  {
   "cell_type": "code",
   "execution_count": 19,
   "id": "4de84db3",
   "metadata": {
    "slideshow": {
     "slide_type": "-"
    }
   },
   "outputs": [
    {
     "data": {
      "text/plain": [
       "__main__.Account"
      ]
     },
     "execution_count": 19,
     "metadata": {},
     "output_type": "execute_result"
    }
   ],
   "source": [
    "my_account = Account(owner = \"Sean\", balance = 50) ### Creating instance\n",
    "type(my_account) ### \"Account\" type"
   ]
  },
  {
   "cell_type": "code",
   "execution_count": 20,
   "id": "656a6080",
   "metadata": {
    "slideshow": {
     "slide_type": "-"
    }
   },
   "outputs": [
    {
     "data": {
      "text/plain": [
       "10"
      ]
     },
     "execution_count": 20,
     "metadata": {},
     "output_type": "execute_result"
    }
   ],
   "source": [
    "my_account.withdraw(40)\n",
    "my_account.balance"
   ]
  },
  {
   "cell_type": "markdown",
   "id": "3f445936",
   "metadata": {
    "slideshow": {
     "slide_type": "slide"
    }
   },
   "source": [
    "### What is `self`?\n",
    "\n",
    "> The `self` keyword refers to the *current instance* of the class. \n",
    "\n",
    "- Instance-specific *methods* should have `self` as an argument: `def method(self, ...)`.\n",
    "- Instance-specific *attributes* are also referred to using `self.attribute_name`.  \n",
    "- You can also add *class* methods/attributes (just leave out the `self`). "
   ]
  },
  {
   "cell_type": "code",
   "execution_count": 21,
   "id": "672b7c98",
   "metadata": {
    "slideshow": {
     "slide_type": "-"
    }
   },
   "outputs": [],
   "source": [
    "class MyClass:\n",
    "    general_attribute = 1 # class attribute\n",
    "    def __init__(self, attr):\n",
    "        self.attr = attr # instance attribute"
   ]
  },
  {
   "cell_type": "code",
   "execution_count": 22,
   "id": "1e581146",
   "metadata": {},
   "outputs": [
    {
     "name": "stdout",
     "output_type": "stream",
     "text": [
      "1\n",
      "1\n"
     ]
    }
   ],
   "source": [
    "mc1 = MyClass(1)\n",
    "mc2 = MyClass(2)\n",
    "print(mc1.general_attribute)\n",
    "print(mc2.general_attribute)"
   ]
  },
  {
   "cell_type": "markdown",
   "id": "ee33d996",
   "metadata": {
    "slideshow": {
     "slide_type": "slide"
    }
   },
   "source": [
    "### Best practices with Classes\n",
    "\n",
    "- Use **CamelCase** (`PremiumAccount`) for class names.  \n",
    "- Use **lower_snakes** for methods and attributes (`check_balance`). \n",
    "- The first attribute should always be `self`.  \n",
    "- Docoument your class!"
   ]
  },
  {
   "cell_type": "markdown",
   "id": "0f708470",
   "metadata": {
    "slideshow": {
     "slide_type": "slide"
    }
   },
   "source": [
    "## Practice defining classes"
   ]
  },
  {
   "cell_type": "markdown",
   "id": "eb06e2d8",
   "metadata": {
    "slideshow": {
     "slide_type": "slide"
    }
   },
   "source": [
    "### A `Student` class"
   ]
  },
  {
   "cell_type": "markdown",
   "id": "9e492f95",
   "metadata": {
    "slideshow": {
     "slide_type": "slide"
    }
   },
   "source": [
    "#### Check-in: defining a `Student` class\n",
    "\n",
    "Let's create a `Student` object, which has the following *attributes*:\n",
    "\n",
    "- `name` (`str`)\n",
    "- `major` (`str`)\n",
    "- `grades` (`list` of `float`s)\n",
    "\n",
    "And the following *methods*:\n",
    "\n",
    "- `__init__`: constructor.\n",
    "- `add_grade`: add another grade to `grades`\n",
    "- `calculate_gpa`: calculate student GPA."
   ]
  },
  {
   "cell_type": "code",
   "execution_count": 23,
   "id": "5dadf6af",
   "metadata": {
    "slideshow": {
     "slide_type": "-"
    }
   },
   "outputs": [],
   "source": [
    "### Your code here"
   ]
  },
  {
   "cell_type": "markdown",
   "id": "fe101719",
   "metadata": {
    "slideshow": {
     "slide_type": "slide"
    }
   },
   "source": [
    "#### Creating the `Student` class"
   ]
  },
  {
   "cell_type": "code",
   "execution_count": 24,
   "id": "e221b112",
   "metadata": {
    "slideshow": {
     "slide_type": "-"
    }
   },
   "outputs": [],
   "source": [
    "class Student():\n",
    "    def __init__(self, name, major, grades):\n",
    "        self.name = name\n",
    "        self.major = major\n",
    "        self.grades = grades\n",
    "    \n",
    "    def add_grade(self, grade):\n",
    "        self.grades.append(grade)\n",
    "        \n",
    "    def calculate_gpa(self):\n",
    "        return sum(self.grades) / len(self.grades) if self.grades else 0"
   ]
  },
  {
   "cell_type": "markdown",
   "id": "028398c8",
   "metadata": {
    "slideshow": {
     "slide_type": "slide"
    }
   },
   "source": [
    "#### Using the `Student` class"
   ]
  },
  {
   "cell_type": "code",
   "execution_count": 25,
   "id": "844c2c8f",
   "metadata": {
    "slideshow": {
     "slide_type": "-"
    }
   },
   "outputs": [],
   "source": [
    "## Create student\n",
    "student = Student(\"Trott\", \"COGS\", [4, 3.7])"
   ]
  },
  {
   "cell_type": "code",
   "execution_count": 26,
   "id": "4b96e90f",
   "metadata": {
    "slideshow": {
     "slide_type": "-"
    }
   },
   "outputs": [],
   "source": [
    "## Add grades\n",
    "student.add_grade(3.3)"
   ]
  },
  {
   "cell_type": "code",
   "execution_count": 27,
   "id": "62b1a02e",
   "metadata": {
    "slideshow": {
     "slide_type": "-"
    }
   },
   "outputs": [
    {
     "data": {
      "text/plain": [
       "3.6666666666666665"
      ]
     },
     "execution_count": 27,
     "metadata": {},
     "output_type": "execute_result"
    }
   ],
   "source": [
    "## Calculate GPA\n",
    "student.calculate_gpa()"
   ]
  },
  {
   "cell_type": "markdown",
   "id": "d44cf8af",
   "metadata": {
    "slideshow": {
     "slide_type": "slide"
    }
   },
   "source": [
    "### An `Employee` class"
   ]
  },
  {
   "cell_type": "markdown",
   "id": "263c5bbd",
   "metadata": {
    "slideshow": {
     "slide_type": "slide"
    }
   },
   "source": [
    "#### Check-in: defining an `Employee` class\n",
    "\n",
    "Let's create an `Employee` class, which has the following *attributes*:\n",
    "\n",
    "- `name` (`str`)\n",
    "- `salary` (`int`)\n",
    "- `role` (`str`)\n",
    "\n",
    "With the following *methods*:\n",
    "\n",
    "- `__init__`: constructor.\n",
    "- `give_raise`: increase `salary` by `amount`.  \n",
    "- `get_paycheck`: returns *monthly* salary amount."
   ]
  },
  {
   "cell_type": "code",
   "execution_count": 28,
   "id": "1f66aa2e",
   "metadata": {
    "slideshow": {
     "slide_type": "-"
    }
   },
   "outputs": [],
   "source": [
    "### Your code here"
   ]
  },
  {
   "cell_type": "markdown",
   "id": "94fb8972",
   "metadata": {
    "slideshow": {
     "slide_type": "slide"
    }
   },
   "source": [
    "#### Creating the `Employee` class"
   ]
  },
  {
   "cell_type": "code",
   "execution_count": 29,
   "id": "40b1d9b3",
   "metadata": {
    "slideshow": {
     "slide_type": "-"
    }
   },
   "outputs": [],
   "source": [
    "class Employee():\n",
    "    def __init__(self, name, salary, role):\n",
    "        self.name = name\n",
    "        self.salary = salary\n",
    "        self.role = role\n",
    "    \n",
    "    def give_raise(self, amount):\n",
    "        self.salary += amount\n",
    "        \n",
    "    def get_paycheck(self):\n",
    "        return self.salary / 12"
   ]
  },
  {
   "cell_type": "markdown",
   "id": "762ff167",
   "metadata": {
    "slideshow": {
     "slide_type": "slide"
    }
   },
   "source": [
    "#### Using the `Employee` class"
   ]
  },
  {
   "cell_type": "code",
   "execution_count": 30,
   "id": "d06cd9b1",
   "metadata": {
    "slideshow": {
     "slide_type": "-"
    }
   },
   "outputs": [
    {
     "data": {
      "text/plain": [
       "100000"
      ]
     },
     "execution_count": 30,
     "metadata": {},
     "output_type": "execute_result"
    }
   ],
   "source": [
    "## Create employee\n",
    "employee = Employee(name = \"John\", salary = 100000, role = \"Engineer\")\n",
    "employee.salary"
   ]
  },
  {
   "cell_type": "code",
   "execution_count": 31,
   "id": "8b178b04",
   "metadata": {
    "slideshow": {
     "slide_type": "-"
    }
   },
   "outputs": [],
   "source": [
    "## Add grades\n",
    "employee.give_raise(5000)"
   ]
  },
  {
   "cell_type": "code",
   "execution_count": 32,
   "id": "36f36517",
   "metadata": {
    "slideshow": {
     "slide_type": "-"
    }
   },
   "outputs": [
    {
     "data": {
      "text/plain": [
       "8750.0"
      ]
     },
     "execution_count": 32,
     "metadata": {},
     "output_type": "execute_result"
    }
   ],
   "source": [
    "## Calculate monthly paycheck\n",
    "employee.get_paycheck()"
   ]
  },
  {
   "cell_type": "markdown",
   "id": "4e02e551",
   "metadata": {
    "slideshow": {
     "slide_type": "slide"
    }
   },
   "source": [
    "## What else can OOP do?\n",
    "\n",
    "- In Python, OOP isn't limited to *single classes*. \n",
    "- A huge strength is **inheritance**.  \n",
    "  - New \"sub-classes\" can inherit structure from parent class.\n",
    "- Can also add new methods for `__str__` representations and more.\n",
    "- Adn can add *operator* methods from `__eq__` comparison and more."
   ]
  },
  {
   "cell_type": "markdown",
   "id": "10b8bcd9",
   "metadata": {
    "slideshow": {
     "slide_type": "slide"
    }
   },
   "source": [
    "### Inheritance\n",
    "\n",
    "> **Inheritance** means that you can define a \"sub-class\", which *inherits* the same structure as its \"parent\" class, and which can you also make more complex.\n",
    "\n",
    "- Many examples of inheritance being useful:\n",
    "  - `Account` --> `PremiumAccount`\n",
    "  - `Cell` --> `Neuron`\n",
    "  - `Student` --> `GradStudent`\n",
    "- Understanding inheritance will also help you understand packages like `pandas` and `scikit-learn`."
   ]
  },
  {
   "cell_type": "markdown",
   "id": "a02275fc",
   "metadata": {
    "slideshow": {
     "slide_type": "slide"
    }
   },
   "source": [
    "### Inheritance in action\n",
    "\n",
    "We already defined a `Student` class. We can now define a `GradStudent` class as follows."
   ]
  },
  {
   "cell_type": "code",
   "execution_count": 33,
   "id": "fa5665f8",
   "metadata": {
    "slideshow": {
     "slide_type": "-"
    }
   },
   "outputs": [],
   "source": [
    "### Class definition specifies parent class\n",
    "class GradStudent(Student):\n",
    "    def defend_thesis(self):\n",
    "        print(\"Thesis defended!\")"
   ]
  },
  {
   "cell_type": "code",
   "execution_count": 34,
   "id": "ef955b08",
   "metadata": {
    "slideshow": {
     "slide_type": "-"
    }
   },
   "outputs": [
    {
     "data": {
      "text/plain": [
       "4.0"
      ]
     },
     "execution_count": 34,
     "metadata": {},
     "output_type": "execute_result"
    }
   ],
   "source": [
    "gs = GradStudent(\"Jones\", \"COGS\", [4, 4, 4])\n",
    "gs.calculate_gpa() ### From the parent class!"
   ]
  },
  {
   "cell_type": "code",
   "execution_count": 35,
   "id": "05aa5445",
   "metadata": {
    "slideshow": {
     "slide_type": "-"
    }
   },
   "outputs": [
    {
     "name": "stdout",
     "output_type": "stream",
     "text": [
      "Thesis defended!\n"
     ]
    }
   ],
   "source": [
    "gs.defend_thesis() ### From the new class!"
   ]
  },
  {
   "cell_type": "markdown",
   "id": "a2d00879",
   "metadata": {
    "slideshow": {
     "slide_type": "slide"
    }
   },
   "source": [
    "### Inheritance and `types`\n",
    "\n",
    "- The *child* class is type of the parent class (e.g., `Student`). \n",
    "- But the *parent* class is not the type of the child class (e.g., `GradStudent`)."
   ]
  },
  {
   "cell_type": "code",
   "execution_count": 36,
   "id": "89886d0b",
   "metadata": {
    "slideshow": {
     "slide_type": "-"
    }
   },
   "outputs": [
    {
     "name": "stdout",
     "output_type": "stream",
     "text": [
      "True\n",
      "True\n",
      "True\n",
      "False\n"
     ]
    }
   ],
   "source": [
    "stu1 = GradStudent('Rose', \"COGS\", [10, 10, 9])\n",
    "stu2 = Student('Mark', \"COGS\", [8, 8, 0, 9, 8, 10])\n",
    "print(isinstance(stu1, Student))\n",
    "print(isinstance(stu1, GradStudent))\n",
    "print(isinstance(stu2, Student))\n",
    "print(isinstance(stu2, GradStudent))"
   ]
  },
  {
   "cell_type": "markdown",
   "id": "aa4ab0e5",
   "metadata": {
    "slideshow": {
     "slide_type": "slide"
    }
   },
   "source": [
    "### Overriding methods from the parent class\n",
    "\n",
    "Python also allows you to **override** specific methods in the parent class."
   ]
  },
  {
   "cell_type": "code",
   "execution_count": 37,
   "id": "b4534502",
   "metadata": {
    "slideshow": {
     "slide_type": "-"
    }
   },
   "outputs": [],
   "source": [
    "class UCSDGradStudent(GradStudent):\n",
    "    def defend_thesis(self): ## Same name as parent class\n",
    "        print(\"Defended my thesis at UCSD!\")"
   ]
  },
  {
   "cell_type": "code",
   "execution_count": 38,
   "id": "292e3469",
   "metadata": {
    "slideshow": {
     "slide_type": "-"
    }
   },
   "outputs": [
    {
     "name": "stdout",
     "output_type": "stream",
     "text": [
      "Defended my thesis at UCSD!\n"
     ]
    }
   ],
   "source": [
    "ucsd_gs = UCSDGradStudent(\"Jones\", \"COGS\", [4,4,4])\n",
    "ucsd_gs.defend_thesis()"
   ]
  },
  {
   "cell_type": "markdown",
   "id": "189c09bd",
   "metadata": {
    "slideshow": {
     "slide_type": "slide"
    }
   },
   "source": [
    "### *Elaborating* on methods from the parent class\n",
    "\n",
    "- In some cases, you might not want to **override** the parent method.  \n",
    "- Here, you can *include* the parent method (`super`), but then elaborate on it."
   ]
  },
  {
   "cell_type": "code",
   "execution_count": 39,
   "id": "9f77e9ca",
   "metadata": {
    "slideshow": {
     "slide_type": "-"
    }
   },
   "outputs": [],
   "source": [
    "class PremiumAccount(Account):\n",
    "    def __init__(self, owner, balance=0, rate = .01): ## constructor\n",
    "        super().__init__(owner, balance) ### parent method\n",
    "        self.rate = rate"
   ]
  },
  {
   "cell_type": "code",
   "execution_count": 40,
   "id": "0ff9a7f5",
   "metadata": {
    "slideshow": {
     "slide_type": "-"
    }
   },
   "outputs": [],
   "source": [
    "pa = PremiumAccount(\"Sean\", balance = 50, rate = .01)"
   ]
  },
  {
   "cell_type": "markdown",
   "id": "070d60f4",
   "metadata": {
    "slideshow": {
     "slide_type": "slide"
    }
   },
   "source": [
    "### Using `__str__`\n",
    "\n",
    "What if you want to `print` out the contents of a class?\n",
    "\n",
    "- By default, Python will print out the object id. \n",
    "- Ideally, we'd have some way of modifying this output."
   ]
  },
  {
   "cell_type": "code",
   "execution_count": 41,
   "id": "129d4f46",
   "metadata": {
    "slideshow": {
     "slide_type": "-"
    }
   },
   "outputs": [
    {
     "name": "stdout",
     "output_type": "stream",
     "text": [
      "<__main__.PremiumAccount object at 0x12815ae50>\n"
     ]
    }
   ],
   "source": [
    "print(pa)"
   ]
  },
  {
   "cell_type": "markdown",
   "id": "33d34ab2",
   "metadata": {
    "slideshow": {
     "slide_type": "slide"
    }
   },
   "source": [
    "#### Adding a `__str__` method\n",
    "\n",
    "The `__str__` method tells Python how to produce a `str` representation of a class."
   ]
  },
  {
   "cell_type": "code",
   "execution_count": 42,
   "id": "bb0891ee",
   "metadata": {
    "slideshow": {
     "slide_type": "-"
    }
   },
   "outputs": [],
   "source": [
    "class PremiumAccount(Account):\n",
    "    def __init__(self, owner, balance=0, rate = .01): ## constructor\n",
    "        super().__init__(owner, balance) ### parent method\n",
    "        self.rate = rate\n",
    "        \n",
    "    def __str__(self):\n",
    "        return \"Premium account with {balance} balance and {rate} reward rate.\".format(balance = self.balance,\n",
    "                                                                                  rate = self.rate)"
   ]
  },
  {
   "cell_type": "code",
   "execution_count": 43,
   "id": "3790f95a",
   "metadata": {
    "slideshow": {
     "slide_type": "-"
    }
   },
   "outputs": [
    {
     "name": "stdout",
     "output_type": "stream",
     "text": [
      "Premium account with 50 balance and 0.01 reward rate.\n"
     ]
    }
   ],
   "source": [
    "pa = PremiumAccount(\"Sean\", balance = 50, rate = 0.01)\n",
    "print(pa) ### Now it prints out a string!"
   ]
  },
  {
   "cell_type": "markdown",
   "id": "032940ac",
   "metadata": {
    "slideshow": {
     "slide_type": "slide"
    }
   },
   "source": [
    "### Using *operators*\n",
    "\n",
    "What if you want to *compare* instances of the same class? You'll need to build methods to do so.\n",
    "\n",
    "| Operator | Method   |\n",
    "|----------|----------|\n",
    "| `==`     | `__eq__` |\n",
    "| `!=`     | `__ne__` |\n",
    "| `>=`     | `__ge__` |\n",
    "| `<=`     | `__le__` |\n",
    "| `>`      | `__gt__` |\n",
    "| `<`      | `__lt__` |\n"
   ]
  },
  {
   "cell_type": "code",
   "execution_count": 44,
   "id": "e2736ca4",
   "metadata": {
    "slideshow": {
     "slide_type": "-"
    }
   },
   "outputs": [],
   "source": [
    "class MyClass():\n",
    "    def __init__(self, value):\n",
    "        self.value = value"
   ]
  },
  {
   "cell_type": "code",
   "execution_count": 45,
   "id": "6e736db4",
   "metadata": {
    "slideshow": {
     "slide_type": "-"
    }
   },
   "outputs": [
    {
     "data": {
      "text/plain": [
       "False"
      ]
     },
     "execution_count": 45,
     "metadata": {},
     "output_type": "execute_result"
    }
   ],
   "source": [
    "### By default, Python doesn't know these have the same values\n",
    "mc1 = MyClass(1)\n",
    "mc2 = MyClass(1)\n",
    "mc1 == mc2"
   ]
  },
  {
   "cell_type": "markdown",
   "id": "070379bc",
   "metadata": {
    "slideshow": {
     "slide_type": "slide"
    }
   },
   "source": [
    "#### Adding an `__eq__` method (pt. 1)\n",
    "\n",
    "- The `__eq__` method tells Python whether two instances are the *same* or not. \n",
    "- Can compare `self.attribute` to `other.attribute`."
   ]
  },
  {
   "cell_type": "code",
   "execution_count": 46,
   "id": "0a204229",
   "metadata": {
    "slideshow": {
     "slide_type": "-"
    }
   },
   "outputs": [],
   "source": [
    "class MyClass():\n",
    "    def __init__(self, value):\n",
    "        self.value = value\n",
    "    \n",
    "    def __eq__(self, other): ### adding __eq__ comaprison\n",
    "        return self.value == other.value"
   ]
  },
  {
   "cell_type": "code",
   "execution_count": 47,
   "id": "c7482bed",
   "metadata": {
    "slideshow": {
     "slide_type": "-"
    }
   },
   "outputs": [
    {
     "data": {
      "text/plain": [
       "True"
      ]
     },
     "execution_count": 47,
     "metadata": {},
     "output_type": "execute_result"
    }
   ],
   "source": [
    "### Now, Python know how to compare them\n",
    "mc1 = MyClass(1)\n",
    "mc2 = MyClass(1)\n",
    "mc1 == mc2"
   ]
  },
  {
   "cell_type": "markdown",
   "id": "2fce83a7",
   "metadata": {
    "slideshow": {
     "slide_type": "slide"
    }
   },
   "source": [
    "## Wrap-up: object-oriented programming\n",
    "\n",
    "- This was a *short* introduction to **object-oriented programming**.  \n",
    "- A software engineering course would go into *much* more detail!\n",
    "- But knowing about **classes** will be very helpful as you learn about new Python libraries, etc.\n",
    "- Also very helpful for writing new code."
   ]
  },
  {
   "cell_type": "code",
   "execution_count": null,
   "id": "913417b5-1ee5-46fa-9539-c2e19544fc83",
   "metadata": {},
   "outputs": [],
   "source": []
  }
 ],
 "metadata": {
  "celltoolbar": "Slideshow",
  "kernelspec": {
   "display_name": "Python 3 (ipykernel)",
   "language": "python",
   "name": "python3"
  },
  "language_info": {
   "codemirror_mode": {
    "name": "ipython",
    "version": 3
   },
   "file_extension": ".py",
   "mimetype": "text/x-python",
   "name": "python",
   "nbconvert_exporter": "python",
   "pygments_lexer": "ipython3",
   "version": "3.11.0"
  }
 },
 "nbformat": 4,
 "nbformat_minor": 5
}
